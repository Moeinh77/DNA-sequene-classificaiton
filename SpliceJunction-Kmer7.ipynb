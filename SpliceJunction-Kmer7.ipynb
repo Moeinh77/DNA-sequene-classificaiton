{
 "cells": [
  {
   "cell_type": "markdown",
   "id": "c8ac8c82",
   "metadata": {},
   "source": [
    "Splice junctions are points on a DNA sequence at which `superfluous' DNA is removed during the process of protein creation in higher organisms. The problem posed in this dataset is to recognize, given a sequence of DNA, the boundaries between exons (the parts of the DNA sequence retained after splicing) and introns (the parts of the DNA sequence that are spliced out). This problem consists of two subtasks: recognizing exon/intron boundaries (referred to as EI sites), and recognizing intron/exon boundaries (IE sites). (In the biological community, IE borders are referred to a ``acceptors'' while EI borders are referred to as ``donors''.)"
   ]
  },
  {
   "cell_type": "markdown",
   "id": "57d67a01",
   "metadata": {},
   "source": [
    "Attribute Information:\n",
    "\n",
    "* 1. One of {n ei ie}, indicating the class.\n",
    "* 2. The instance name.\n",
    "* 3-62. The remaining 60 fields are the sequence, starting at position -30 and ending at position +30. Each of these fields is almost always filled by one of {a, g, t, c}. Other characters indicate ambiguity among the standard characters according to the following table:\n"
   ]
  },
  {
   "cell_type": "code",
   "execution_count": 1,
   "id": "59940d4e",
   "metadata": {},
   "outputs": [],
   "source": [
    "import pandas as pd \n",
    "import matplotlib.pyplot as plt\n",
    "import seaborn as sns\n",
    "from sklearn.metrics import f1_score\n",
    "from sklearn.feature_extraction.text import CountVectorizer\n",
    "from sklearn.model_selection import train_test_split\n",
    "from sklearn.metrics import confusion_matrix\n",
    "from mlxtend.plotting import plot_confusion_matrix\n",
    "from tensorflow.keras.utils import to_categorical\n",
    "import tensorflow as tf\n",
    "tf.config.run_functions_eagerly(True)\n",
    "import time"
   ]
  },
  {
   "cell_type": "code",
   "execution_count": 2,
   "id": "0c24ce30",
   "metadata": {},
   "outputs": [],
   "source": [
    "# size of our kmer words\n",
    "k_mer = 7\n",
    "# dimesnion space of our embedding layer\n",
    "EMB_DIM = 50"
   ]
  },
  {
   "cell_type": "markdown",
   "id": "0d242348",
   "metadata": {},
   "source": [
    "#### reading and exploring the data"
   ]
  },
  {
   "cell_type": "code",
   "execution_count": 3,
   "id": "10cd799e",
   "metadata": {},
   "outputs": [
    {
     "data": {
      "text/html": [
       "<div>\n",
       "<style scoped>\n",
       "    .dataframe tbody tr th:only-of-type {\n",
       "        vertical-align: middle;\n",
       "    }\n",
       "\n",
       "    .dataframe tbody tr th {\n",
       "        vertical-align: top;\n",
       "    }\n",
       "\n",
       "    .dataframe thead th {\n",
       "        text-align: right;\n",
       "    }\n",
       "</style>\n",
       "<table border=\"1\" class=\"dataframe\">\n",
       "  <thead>\n",
       "    <tr style=\"text-align: right;\">\n",
       "      <th></th>\n",
       "      <th>class</th>\n",
       "      <th>donor</th>\n",
       "      <th>sequence</th>\n",
       "    </tr>\n",
       "  </thead>\n",
       "  <tbody>\n",
       "    <tr>\n",
       "      <th>0</th>\n",
       "      <td>EI</td>\n",
       "      <td>ATRINS-DONOR-521</td>\n",
       "      <td>CCAGCTGCATCACAGGAGGCCAGCGAGCAGG...</td>\n",
       "    </tr>\n",
       "    <tr>\n",
       "      <th>1</th>\n",
       "      <td>EI</td>\n",
       "      <td>ATRINS-DONOR-905</td>\n",
       "      <td>AGACCCGCCGGGAGGCGGAGGACCTGCAGGG...</td>\n",
       "    </tr>\n",
       "    <tr>\n",
       "      <th>2</th>\n",
       "      <td>EI</td>\n",
       "      <td>BABAPOE-DONOR-30</td>\n",
       "      <td>GAGGTGAAGGACGTCCTTCCCCAGGAGCCGG...</td>\n",
       "    </tr>\n",
       "    <tr>\n",
       "      <th>3</th>\n",
       "      <td>EI</td>\n",
       "      <td>BABAPOE-DONOR-867</td>\n",
       "      <td>GGGCTGCGTTGCTGGTCACATTCCTGGCAGGT...</td>\n",
       "    </tr>\n",
       "    <tr>\n",
       "      <th>4</th>\n",
       "      <td>EI</td>\n",
       "      <td>BABAPOE-DONOR-2817</td>\n",
       "      <td>GCTCAGCCCCCAGGTCACCCAGGAACTGACGTG...</td>\n",
       "    </tr>\n",
       "  </tbody>\n",
       "</table>\n",
       "</div>"
      ],
      "text/plain": [
       "  class                   donor  \\\n",
       "0    EI        ATRINS-DONOR-521   \n",
       "1    EI        ATRINS-DONOR-905   \n",
       "2    EI        BABAPOE-DONOR-30   \n",
       "3    EI       BABAPOE-DONOR-867   \n",
       "4    EI      BABAPOE-DONOR-2817   \n",
       "\n",
       "                                            sequence  \n",
       "0                 CCAGCTGCATCACAGGAGGCCAGCGAGCAGG...  \n",
       "1                 AGACCCGCCGGGAGGCGGAGGACCTGCAGGG...  \n",
       "2                 GAGGTGAAGGACGTCCTTCCCCAGGAGCCGG...  \n",
       "3                GGGCTGCGTTGCTGGTCACATTCCTGGCAGGT...  \n",
       "4               GCTCAGCCCCCAGGTCACCCAGGAACTGACGTG...  "
      ]
     },
     "execution_count": 3,
     "metadata": {},
     "output_type": "execute_result"
    }
   ],
   "source": [
    "splice_data = pd.read_csv('splice.data', header=None, names = ['class', 'donor', 'sequence'])\n",
    "splice_data.head()"
   ]
  },
  {
   "cell_type": "code",
   "execution_count": 4,
   "id": "c2596fbe",
   "metadata": {},
   "outputs": [],
   "source": [
    "# we have 3 classes in this dataset\n",
    "CLASS_NUM = 3"
   ]
  },
  {
   "cell_type": "code",
   "execution_count": 5,
   "id": "92aa0dc1",
   "metadata": {},
   "outputs": [
    {
     "data": {
      "text/plain": [
       "3190"
      ]
     },
     "execution_count": 5,
     "metadata": {},
     "output_type": "execute_result"
    }
   ],
   "source": [
    "len(splice_data)"
   ]
  },
  {
   "cell_type": "code",
   "execution_count": 6,
   "id": "f77cb3e9",
   "metadata": {},
   "outputs": [
    {
     "data": {
      "text/html": [
       "<div>\n",
       "<style scoped>\n",
       "    .dataframe tbody tr th:only-of-type {\n",
       "        vertical-align: middle;\n",
       "    }\n",
       "\n",
       "    .dataframe tbody tr th {\n",
       "        vertical-align: top;\n",
       "    }\n",
       "\n",
       "    .dataframe thead th {\n",
       "        text-align: right;\n",
       "    }\n",
       "</style>\n",
       "<table border=\"1\" class=\"dataframe\">\n",
       "  <thead>\n",
       "    <tr style=\"text-align: right;\">\n",
       "      <th></th>\n",
       "      <th>class</th>\n",
       "      <th>donor</th>\n",
       "      <th>sequence</th>\n",
       "    </tr>\n",
       "  </thead>\n",
       "  <tbody>\n",
       "    <tr>\n",
       "      <th>0</th>\n",
       "      <td>EI</td>\n",
       "      <td>ATRINS-DONOR-521</td>\n",
       "      <td>CCAGCTGCATCACAGGAGGCCAGCGAGCAGG...</td>\n",
       "    </tr>\n",
       "    <tr>\n",
       "      <th>1</th>\n",
       "      <td>EI</td>\n",
       "      <td>ATRINS-DONOR-905</td>\n",
       "      <td>AGACCCGCCGGGAGGCGGAGGACCTGCAGGG...</td>\n",
       "    </tr>\n",
       "    <tr>\n",
       "      <th>2</th>\n",
       "      <td>EI</td>\n",
       "      <td>BABAPOE-DONOR-30</td>\n",
       "      <td>GAGGTGAAGGACGTCCTTCCCCAGGAGCCGG...</td>\n",
       "    </tr>\n",
       "    <tr>\n",
       "      <th>3</th>\n",
       "      <td>EI</td>\n",
       "      <td>BABAPOE-DONOR-867</td>\n",
       "      <td>GGGCTGCGTTGCTGGTCACATTCCTGGCAGGT...</td>\n",
       "    </tr>\n",
       "    <tr>\n",
       "      <th>4</th>\n",
       "      <td>EI</td>\n",
       "      <td>BABAPOE-DONOR-2817</td>\n",
       "      <td>GCTCAGCCCCCAGGTCACCCAGGAACTGACGTG...</td>\n",
       "    </tr>\n",
       "  </tbody>\n",
       "</table>\n",
       "</div>"
      ],
      "text/plain": [
       "  class                   donor  \\\n",
       "0    EI        ATRINS-DONOR-521   \n",
       "1    EI        ATRINS-DONOR-905   \n",
       "2    EI        BABAPOE-DONOR-30   \n",
       "3    EI       BABAPOE-DONOR-867   \n",
       "4    EI      BABAPOE-DONOR-2817   \n",
       "\n",
       "                                            sequence  \n",
       "0                 CCAGCTGCATCACAGGAGGCCAGCGAGCAGG...  \n",
       "1                 AGACCCGCCGGGAGGCGGAGGACCTGCAGGG...  \n",
       "2                 GAGGTGAAGGACGTCCTTCCCCAGGAGCCGG...  \n",
       "3                GGGCTGCGTTGCTGGTCACATTCCTGGCAGGT...  \n",
       "4               GCTCAGCCCCCAGGTCACCCAGGAACTGACGTG...  "
      ]
     },
     "execution_count": 6,
     "metadata": {},
     "output_type": "execute_result"
    }
   ],
   "source": [
    "splice_data['sequence'] = splice_data.apply(lambda x: str(x['sequence']), axis=1)\n",
    "splice_data.head()"
   ]
  },
  {
   "cell_type": "code",
   "execution_count": 7,
   "id": "2464342e",
   "metadata": {},
   "outputs": [
    {
     "data": {
      "text/plain": [
       "N     1655\n",
       "IE     768\n",
       "EI     767\n",
       "Name: class, dtype: int64"
      ]
     },
     "execution_count": 7,
     "metadata": {},
     "output_type": "execute_result"
    }
   ],
   "source": [
    "splice_data['class'].value_counts()"
   ]
  },
  {
   "cell_type": "code",
   "execution_count": 8,
   "id": "ae0aa416",
   "metadata": {},
   "outputs": [
    {
     "data": {
      "image/png": "[encoded data removed]",
      "text/plain": [
       "<Figure size 432x288 with 1 Axes>"
      ]
     },
     "metadata": {
      "needs_background": "light"
     },
     "output_type": "display_data"
    }
   ],
   "source": [
    "sns.countplot(x =splice_data['class'])\n",
    "plt.title(\"Class Dist in data\")\n",
    "plt.show()"
   ]
  },
  {
   "cell_type": "code",
   "execution_count": 9,
   "id": "b413ca3c",
   "metadata": {
    "scrolled": true
   },
   "outputs": [
    {
     "data": {
      "text/plain": [
       "['ccagctg']"
      ]
     },
     "execution_count": 9,
     "metadata": {},
     "output_type": "execute_result"
    }
   ],
   "source": [
    "def kmer_fun(seq, win_size):\n",
    "    kmer_list = []\n",
    "    for x in range(len(seq) - win_size + 1):\n",
    "        kmer_list.append(seq[x:x+win_size].lower())\n",
    "    return kmer_list\n",
    "\n",
    "#So let’s try it out with a simple sequence:\n",
    "mySeq = 'CCAGCTG'\n",
    "kmer_fun(mySeq, win_size= k_mer)"
   ]
  },
  {
   "cell_type": "code",
   "execution_count": 10,
   "id": "c268fa2d",
   "metadata": {},
   "outputs": [
    {
     "data": {
      "text/html": [
       "<div>\n",
       "<style scoped>\n",
       "    .dataframe tbody tr th:only-of-type {\n",
       "        vertical-align: middle;\n",
       "    }\n",
       "\n",
       "    .dataframe tbody tr th {\n",
       "        vertical-align: top;\n",
       "    }\n",
       "\n",
       "    .dataframe thead th {\n",
       "        text-align: right;\n",
       "    }\n",
       "</style>\n",
       "<table border=\"1\" class=\"dataframe\">\n",
       "  <thead>\n",
       "    <tr style=\"text-align: right;\">\n",
       "      <th></th>\n",
       "      <th>class</th>\n",
       "      <th>donor</th>\n",
       "      <th>sequence</th>\n",
       "    </tr>\n",
       "  </thead>\n",
       "  <tbody>\n",
       "    <tr>\n",
       "      <th>0</th>\n",
       "      <td>EI</td>\n",
       "      <td>ATRINS-DONOR-521</td>\n",
       "      <td>CCAGCTGCATCACAGGAGGCCAGCGAGCAGGTCTGTTCCAAGGGCC...</td>\n",
       "    </tr>\n",
       "    <tr>\n",
       "      <th>1</th>\n",
       "      <td>EI</td>\n",
       "      <td>ATRINS-DONOR-905</td>\n",
       "      <td>AGACCCGCCGGGAGGCGGAGGACCTGCAGGGTGAGCCCCACCGCCC...</td>\n",
       "    </tr>\n",
       "    <tr>\n",
       "      <th>2</th>\n",
       "      <td>EI</td>\n",
       "      <td>BABAPOE-DONOR-30</td>\n",
       "      <td>GAGGTGAAGGACGTCCTTCCCCAGGAGCCGGTGAGAAGCGCAGTCG...</td>\n",
       "    </tr>\n",
       "    <tr>\n",
       "      <th>3</th>\n",
       "      <td>EI</td>\n",
       "      <td>BABAPOE-DONOR-867</td>\n",
       "      <td>GGGCTGCGTTGCTGGTCACATTCCTGGCAGGTATGGGGCGGGGCTT...</td>\n",
       "    </tr>\n",
       "    <tr>\n",
       "      <th>4</th>\n",
       "      <td>EI</td>\n",
       "      <td>BABAPOE-DONOR-2817</td>\n",
       "      <td>GCTCAGCCCCCAGGTCACCCAGGAACTGACGTGAGTGTCCCCATCC...</td>\n",
       "    </tr>\n",
       "  </tbody>\n",
       "</table>\n",
       "</div>"
      ],
      "text/plain": [
       "  class                   donor  \\\n",
       "0    EI        ATRINS-DONOR-521   \n",
       "1    EI        ATRINS-DONOR-905   \n",
       "2    EI        BABAPOE-DONOR-30   \n",
       "3    EI       BABAPOE-DONOR-867   \n",
       "4    EI      BABAPOE-DONOR-2817   \n",
       "\n",
       "                                            sequence  \n",
       "0  CCAGCTGCATCACAGGAGGCCAGCGAGCAGGTCTGTTCCAAGGGCC...  \n",
       "1  AGACCCGCCGGGAGGCGGAGGACCTGCAGGGTGAGCCCCACCGCCC...  \n",
       "2  GAGGTGAAGGACGTCCTTCCCCAGGAGCCGGTGAGAAGCGCAGTCG...  \n",
       "3  GGGCTGCGTTGCTGGTCACATTCCTGGCAGGTATGGGGCGGGGCTT...  \n",
       "4  GCTCAGCCCCCAGGTCACCCAGGAACTGACGTGAGTGTCCCCATCC...  "
      ]
     },
     "execution_count": 10,
     "metadata": {},
     "output_type": "execute_result"
    }
   ],
   "source": [
    "splice_data['sequence'] = splice_data.apply(lambda x : x['sequence'].strip(), axis = 1)\n",
    "splice_data.head()"
   ]
  },
  {
   "cell_type": "code",
   "execution_count": 11,
   "id": "c795aaf2",
   "metadata": {},
   "outputs": [
    {
     "data": {
      "text/html": [
       "<div>\n",
       "<style scoped>\n",
       "    .dataframe tbody tr th:only-of-type {\n",
       "        vertical-align: middle;\n",
       "    }\n",
       "\n",
       "    .dataframe tbody tr th {\n",
       "        vertical-align: top;\n",
       "    }\n",
       "\n",
       "    .dataframe thead th {\n",
       "        text-align: right;\n",
       "    }\n",
       "</style>\n",
       "<table border=\"1\" class=\"dataframe\">\n",
       "  <thead>\n",
       "    <tr style=\"text-align: right;\">\n",
       "      <th></th>\n",
       "      <th>class</th>\n",
       "      <th>donor</th>\n",
       "      <th>sequence</th>\n",
       "      <th>7-mer</th>\n",
       "    </tr>\n",
       "  </thead>\n",
       "  <tbody>\n",
       "    <tr>\n",
       "      <th>0</th>\n",
       "      <td>EI</td>\n",
       "      <td>ATRINS-DONOR-521</td>\n",
       "      <td>CCAGCTGCATCACAGGAGGCCAGCGAGCAGGTCTGTTCCAAGGGCC...</td>\n",
       "      <td>[ccagctg, cagctgc, agctgca, gctgcat, ctgcatc, ...</td>\n",
       "    </tr>\n",
       "    <tr>\n",
       "      <th>1</th>\n",
       "      <td>EI</td>\n",
       "      <td>ATRINS-DONOR-905</td>\n",
       "      <td>AGACCCGCCGGGAGGCGGAGGACCTGCAGGGTGAGCCCCACCGCCC...</td>\n",
       "      <td>[agacccg, gacccgc, acccgcc, cccgccg, ccgccgg, ...</td>\n",
       "    </tr>\n",
       "    <tr>\n",
       "      <th>2</th>\n",
       "      <td>EI</td>\n",
       "      <td>BABAPOE-DONOR-30</td>\n",
       "      <td>GAGGTGAAGGACGTCCTTCCCCAGGAGCCGGTGAGAAGCGCAGTCG...</td>\n",
       "      <td>[gaggtga, aggtgaa, ggtgaag, gtgaagg, tgaagga, ...</td>\n",
       "    </tr>\n",
       "    <tr>\n",
       "      <th>3</th>\n",
       "      <td>EI</td>\n",
       "      <td>BABAPOE-DONOR-867</td>\n",
       "      <td>GGGCTGCGTTGCTGGTCACATTCCTGGCAGGTATGGGGCGGGGCTT...</td>\n",
       "      <td>[gggctgc, ggctgcg, gctgcgt, ctgcgtt, tgcgttg, ...</td>\n",
       "    </tr>\n",
       "    <tr>\n",
       "      <th>4</th>\n",
       "      <td>EI</td>\n",
       "      <td>BABAPOE-DONOR-2817</td>\n",
       "      <td>GCTCAGCCCCCAGGTCACCCAGGAACTGACGTGAGTGTCCCCATCC...</td>\n",
       "      <td>[gctcagc, ctcagcc, tcagccc, cagcccc, agccccc, ...</td>\n",
       "    </tr>\n",
       "  </tbody>\n",
       "</table>\n",
       "</div>"
      ],
      "text/plain": [
       "  class                   donor  \\\n",
       "0    EI        ATRINS-DONOR-521   \n",
       "1    EI        ATRINS-DONOR-905   \n",
       "2    EI        BABAPOE-DONOR-30   \n",
       "3    EI       BABAPOE-DONOR-867   \n",
       "4    EI      BABAPOE-DONOR-2817   \n",
       "\n",
       "                                            sequence  \\\n",
       "0  CCAGCTGCATCACAGGAGGCCAGCGAGCAGGTCTGTTCCAAGGGCC...   \n",
       "1  AGACCCGCCGGGAGGCGGAGGACCTGCAGGGTGAGCCCCACCGCCC...   \n",
       "2  GAGGTGAAGGACGTCCTTCCCCAGGAGCCGGTGAGAAGCGCAGTCG...   \n",
       "3  GGGCTGCGTTGCTGGTCACATTCCTGGCAGGTATGGGGCGGGGCTT...   \n",
       "4  GCTCAGCCCCCAGGTCACCCAGGAACTGACGTGAGTGTCCCCATCC...   \n",
       "\n",
       "                                               7-mer  \n",
       "0  [ccagctg, cagctgc, agctgca, gctgcat, ctgcatc, ...  \n",
       "1  [agacccg, gacccgc, acccgcc, cccgccg, ccgccgg, ...  \n",
       "2  [gaggtga, aggtgaa, ggtgaag, gtgaagg, tgaagga, ...  \n",
       "3  [gggctgc, ggctgcg, gctgcgt, ctgcgtt, tgcgttg, ...  \n",
       "4  [gctcagc, ctcagcc, tcagccc, cagcccc, agccccc, ...  "
      ]
     },
     "execution_count": 11,
     "metadata": {},
     "output_type": "execute_result"
    }
   ],
   "source": [
    "splice_data[str(k_mer)+'-mer'] = splice_data.apply(lambda x : kmer_fun(x['sequence']\n",
    "                                                    , win_size= k_mer), axis = 1)\n",
    "splice_data.head()"
   ]
  },
  {
   "cell_type": "code",
   "execution_count": 12,
   "id": "2282a335",
   "metadata": {},
   "outputs": [
    {
     "data": {
      "text/html": [
       "<div>\n",
       "<style scoped>\n",
       "    .dataframe tbody tr th:only-of-type {\n",
       "        vertical-align: middle;\n",
       "    }\n",
       "\n",
       "    .dataframe tbody tr th {\n",
       "        vertical-align: top;\n",
       "    }\n",
       "\n",
       "    .dataframe thead th {\n",
       "        text-align: right;\n",
       "    }\n",
       "</style>\n",
       "<table border=\"1\" class=\"dataframe\">\n",
       "  <thead>\n",
       "    <tr style=\"text-align: right;\">\n",
       "      <th></th>\n",
       "      <th>class</th>\n",
       "      <th>donor</th>\n",
       "      <th>sequence</th>\n",
       "      <th>7-mer</th>\n",
       "    </tr>\n",
       "  </thead>\n",
       "  <tbody>\n",
       "    <tr>\n",
       "      <th>0</th>\n",
       "      <td>0</td>\n",
       "      <td>ATRINS-DONOR-521</td>\n",
       "      <td>CCAGCTGCATCACAGGAGGCCAGCGAGCAGGTCTGTTCCAAGGGCC...</td>\n",
       "      <td>[ccagctg, cagctgc, agctgca, gctgcat, ctgcatc, ...</td>\n",
       "    </tr>\n",
       "    <tr>\n",
       "      <th>1</th>\n",
       "      <td>0</td>\n",
       "      <td>ATRINS-DONOR-905</td>\n",
       "      <td>AGACCCGCCGGGAGGCGGAGGACCTGCAGGGTGAGCCCCACCGCCC...</td>\n",
       "      <td>[agacccg, gacccgc, acccgcc, cccgccg, ccgccgg, ...</td>\n",
       "    </tr>\n",
       "    <tr>\n",
       "      <th>2</th>\n",
       "      <td>0</td>\n",
       "      <td>BABAPOE-DONOR-30</td>\n",
       "      <td>GAGGTGAAGGACGTCCTTCCCCAGGAGCCGGTGAGAAGCGCAGTCG...</td>\n",
       "      <td>[gaggtga, aggtgaa, ggtgaag, gtgaagg, tgaagga, ...</td>\n",
       "    </tr>\n",
       "    <tr>\n",
       "      <th>3</th>\n",
       "      <td>0</td>\n",
       "      <td>BABAPOE-DONOR-867</td>\n",
       "      <td>GGGCTGCGTTGCTGGTCACATTCCTGGCAGGTATGGGGCGGGGCTT...</td>\n",
       "      <td>[gggctgc, ggctgcg, gctgcgt, ctgcgtt, tgcgttg, ...</td>\n",
       "    </tr>\n",
       "    <tr>\n",
       "      <th>4</th>\n",
       "      <td>0</td>\n",
       "      <td>BABAPOE-DONOR-2817</td>\n",
       "      <td>GCTCAGCCCCCAGGTCACCCAGGAACTGACGTGAGTGTCCCCATCC...</td>\n",
       "      <td>[gctcagc, ctcagcc, tcagccc, cagcccc, agccccc, ...</td>\n",
       "    </tr>\n",
       "  </tbody>\n",
       "</table>\n",
       "</div>"
      ],
      "text/plain": [
       "   class                   donor  \\\n",
       "0      0        ATRINS-DONOR-521   \n",
       "1      0        ATRINS-DONOR-905   \n",
       "2      0        BABAPOE-DONOR-30   \n",
       "3      0       BABAPOE-DONOR-867   \n",
       "4      0      BABAPOE-DONOR-2817   \n",
       "\n",
       "                                            sequence  \\\n",
       "0  CCAGCTGCATCACAGGAGGCCAGCGAGCAGGTCTGTTCCAAGGGCC...   \n",
       "1  AGACCCGCCGGGAGGCGGAGGACCTGCAGGGTGAGCCCCACCGCCC...   \n",
       "2  GAGGTGAAGGACGTCCTTCCCCAGGAGCCGGTGAGAAGCGCAGTCG...   \n",
       "3  GGGCTGCGTTGCTGGTCACATTCCTGGCAGGTATGGGGCGGGGCTT...   \n",
       "4  GCTCAGCCCCCAGGTCACCCAGGAACTGACGTGAGTGTCCCCATCC...   \n",
       "\n",
       "                                               7-mer  \n",
       "0  [ccagctg, cagctgc, agctgca, gctgcat, ctgcatc, ...  \n",
       "1  [agacccg, gacccgc, acccgcc, cccgccg, ccgccgg, ...  \n",
       "2  [gaggtga, aggtgaa, ggtgaag, gtgaagg, tgaagga, ...  \n",
       "3  [gggctgc, ggctgcg, gctgcgt, ctgcgtt, tgcgttg, ...  \n",
       "4  [gctcagc, ctcagcc, tcagccc, cagcccc, agccccc, ...  "
      ]
     },
     "execution_count": 12,
     "metadata": {},
     "output_type": "execute_result"
    }
   ],
   "source": [
    "from sklearn import preprocessing\n",
    "le = preprocessing.LabelEncoder()\n",
    "splice_data['class'] = le.fit_transform(splice_data['class'])\n",
    "splice_data.head()"
   ]
  },
  {
   "cell_type": "code",
   "execution_count": 13,
   "id": "5b44687c",
   "metadata": {},
   "outputs": [
    {
     "name": "stdout",
     "output_type": "stream",
     "text": [
      "Sample 1:  ccagctg cagctgc agctgca gctgcat ctgcatc tgcatca gcatcac catcaca atcacag tcacagg cacagga acaggag caggagg aggaggc ggaggcc gaggcca aggccag ggccagc gccagcg ccagcga cagcgag agcgagc gcgagca cgagcag gagcagg agcaggt gcaggtc caggtct aggtctg ggtctgt gtctgtt tctgttc ctgttcc tgttcca gttccaa ttccaag tccaagg ccaaggg caagggc aagggcc agggcct gggcctt ggccttc gccttcg ccttcga cttcgag ttcgagc tcgagcc cgagcca gagccag agccagt gccagtc ccagtct cagtctg\n"
     ]
    }
   ],
   "source": [
    "# making sentences based on the k-mers\n",
    "dna_texts = list(splice_data[str(k_mer)+'-mer'])\n",
    "for item in range(len(dna_texts)):\n",
    "    dna_texts[item] = ' '.join(dna_texts[item])\n",
    "\n",
    "print('Sample 1: ', dna_texts[0])"
   ]
  },
  {
   "cell_type": "code",
   "execution_count": 14,
   "id": "528f9765",
   "metadata": {},
   "outputs": [],
   "source": [
    "# get the labels\n",
    "y = splice_data['class'].values "
   ]
  },
  {
   "cell_type": "code",
   "execution_count": 15,
   "id": "45e9a6a3",
   "metadata": {},
   "outputs": [],
   "source": [
    "# seperating the texts to train and test\n",
    "X_train, X_test, y_train, y_test = train_test_split(dna_texts,\n",
    "                                                    y,\n",
    "                                                   random_state=42,\n",
    "                                                   test_size=0.3,\n",
    "                                                   stratify=y)\n"
   ]
  },
  {
   "cell_type": "code",
   "execution_count": 16,
   "id": "ce9ff1ce",
   "metadata": {},
   "outputs": [
    {
     "data": {
      "text/plain": [
       "(2233, 957)"
      ]
     },
     "execution_count": 16,
     "metadata": {},
     "output_type": "execute_result"
    }
   ],
   "source": [
    "len(X_train), len(X_test)"
   ]
  },
  {
   "cell_type": "code",
   "execution_count": 17,
   "id": "1219a7e0",
   "metadata": {},
   "outputs": [],
   "source": [
    "# converting the labels to categorical one hot encoded format\n",
    "y_train = to_categorical(y_train)\n",
    "y_test = to_categorical(y_test)"
   ]
  },
  {
   "cell_type": "code",
   "execution_count": 18,
   "id": "2ddc3c08",
   "metadata": {},
   "outputs": [
    {
     "data": {
      "text/plain": [
       "((2233, 3), (957, 3))"
      ]
     },
     "execution_count": 18,
     "metadata": {},
     "output_type": "execute_result"
    }
   ],
   "source": [
    "y_train.shape, y_test.shape"
   ]
  },
  {
   "cell_type": "code",
   "execution_count": 19,
   "id": "0d64783f",
   "metadata": {},
   "outputs": [
    {
     "name": "stdout",
     "output_type": "stream",
     "text": [
      "Found 15351 unique tokens.\n"
     ]
    }
   ],
   "source": [
    "from tensorflow.keras.preprocessing.text import Tokenizer\n",
    "from tensorflow.keras.preprocessing.sequence import pad_sequences\n",
    "\n",
    "tokenizer = Tokenizer()\n",
    "tokenizer.fit_on_texts(X_train)\n",
    "word_index = tokenizer.word_index\n",
    "print('Found %s unique tokens.' % len(word_index))\n",
    "VOCAB_SIZE = len(word_index)"
   ]
  },
  {
   "cell_type": "code",
   "execution_count": 20,
   "id": "b4a56a04",
   "metadata": {},
   "outputs": [
    {
     "name": "stdout",
     "output_type": "stream",
     "text": [
      "Sample 1 sequence:  [3778, 5904, 5105, 8005, 1177, 2435, 6875, 5905, 6876, 6877, 10649, 12167, 427, 542, 4385, 8006, 2436, 4386, 3779, 2823, 1348, 2824, 1810, 2437, 182, 2117, 6878, 3264, 2438, 3780, 4387, 5106, 1557, 2118, 810, 4388, 1349, 1178, 543, 2825, 1179, 3781, 1811, 5107, 9312, 6879, 5108, 3782, 8007, 10650, 9313, 8008, 5906, 6880]\n",
      "\n",
      "Shape of train data tensor: (2233, 431)\n"
     ]
    }
   ],
   "source": [
    "X_train_seq = tokenizer.texts_to_sequences(X_train)\n",
    "print('Sample 1 sequence: ', X_train_seq[0])\n",
    "print()\n",
    "X_train_padded = pad_sequences(X_train_seq, maxlen=len(X_train[0]))\n",
    "print('Shape of train data tensor:', X_train_padded.shape)"
   ]
  },
  {
   "cell_type": "code",
   "execution_count": 21,
   "id": "6dc76801",
   "metadata": {},
   "outputs": [
    {
     "name": "stdout",
     "output_type": "stream",
     "text": [
      "Sample 1 sequence:  [1953, 1792, 523, 770, 961, 636, 965, 2464, 3822, 1295, 438, 282, 547, 277, 659, 494, 1029, 717, 235, 384, 1513, 2235, 845, 4089, 418, 2950, 9120, 5381, 1814, 211, 1625, 2005, 256, 86, 73, 378, 925, 2310, 149, 845, 4089, 418, 592, 291, 317, 4871, 5632, 9706, 8458, 7336, 6339, 4207, 2030, 3460]\n",
      "\n",
      "Shape of test data tensor: (957, 431)\n"
     ]
    }
   ],
   "source": [
    "X_test_seq = tokenizer.texts_to_sequences(X_test)\n",
    "print('Sample 1 sequence: ',X_test_seq[0])\n",
    "print()\n",
    "X_test_padded = pad_sequences(X_test_seq, maxlen= len(X_train[0]))\n",
    "print('Shape of test data tensor:', X_test_padded.shape)"
   ]
  },
  {
   "cell_type": "markdown",
   "id": "877c2fe6",
   "metadata": {},
   "source": [
    "### Helper funtions"
   ]
  },
  {
   "cell_type": "code",
   "execution_count": 22,
   "id": "f33a0c8b",
   "metadata": {},
   "outputs": [],
   "source": [
    "# the funciton will draw a heat map\n",
    "def eval_NN_model(model, X_test, y_test, title= 'Heat map'):\n",
    "    predictions = model.predict(X_test)\n",
    "    preds_int = np.argmax(predictions, axis = 1)\n",
    "    y_test_int = np.argmax(y_test, axis = 1)\n",
    "    cm = confusion_matrix(y_test_int, preds_int)\n",
    "    plot_confusion_matrix(cm, figsize=(4,4), hide_ticks=True ,cmap=plt.cm.Blues)\n",
    "    plt.title(title)\n",
    "    plt.xticks(range(CLASS_NUM), [str(i) for i in range(CLASS_NUM)], fontsize=12)\n",
    "    plt.yticks(range(CLASS_NUM), [str(i) for i in range(CLASS_NUM)], fontsize=12)\n",
    "    plt.show()\n",
    "    \n",
    "    f1_test = f1_score(y_test_int, preds_int, average = 'macro')\n",
    "    print('test F1 score: {:.3f}'.format(f1_test))"
   ]
  },
  {
   "cell_type": "markdown",
   "id": "d811b5de",
   "metadata": {},
   "source": [
    "### Models"
   ]
  },
  {
   "cell_type": "code",
   "execution_count": 23,
   "id": "a570ac85",
   "metadata": {},
   "outputs": [],
   "source": [
    "from tensorflow.keras.models import Sequential\n",
    "from tensorflow.keras.layers import Dense, LSTM, Embedding, Conv1D\n",
    "from tensorflow.keras.layers import MaxPool1D, Flatten, Dropout"
   ]
  },
  {
   "cell_type": "code",
   "execution_count": 24,
   "id": "93a166a7",
   "metadata": {},
   "outputs": [],
   "source": [
    "es = tf.keras.callbacks.EarlyStopping(monitor='val_accuracy',\n",
    "                                      patience= 5, restore_best_weights= True)\n"
   ]
  },
  {
   "cell_type": "markdown",
   "id": "dcba8981",
   "metadata": {},
   "source": [
    "#### ANN"
   ]
  },
  {
   "cell_type": "code",
   "execution_count": 25,
   "id": "8beb4e38",
   "metadata": {},
   "outputs": [],
   "source": [
    "chkpt1 = tf.keras.callbacks.ModelCheckpoint(\n",
    "    'weights/ANN_weights', monitor='val_accuracy', verbose=0, save_best_only=True,\n",
    "    save_weights_only=True\n",
    ")"
   ]
  },
  {
   "cell_type": "code",
   "execution_count": 26,
   "id": "5ea1e4c8",
   "metadata": {},
   "outputs": [
    {
     "name": "stdout",
     "output_type": "stream",
     "text": [
      "Model: \"sequential\"\n",
      "_________________________________________________________________\n",
      "Layer (type)                 Output Shape              Param #   \n",
      "=================================================================\n",
      "embedding (Embedding)        (None, 431, 50)           767600    \n",
      "_________________________________________________________________\n",
      "flatten (Flatten)            (None, 21550)             0         \n",
      "_________________________________________________________________\n",
      "dense (Dense)                (None, 12)                258612    \n",
      "_________________________________________________________________\n",
      "dense_1 (Dense)              (None, 8)                 104       \n",
      "_________________________________________________________________\n",
      "dense_2 (Dense)              (None, 3)                 27        \n",
      "=================================================================\n",
      "Total params: 1,026,343\n",
      "Trainable params: 1,026,343\n",
      "Non-trainable params: 0\n",
      "_________________________________________________________________\n"
     ]
    }
   ],
   "source": [
    "model_ANN = Sequential()\n",
    "model_ANN.add(Embedding(VOCAB_SIZE+1, EMB_DIM, input_length = X_train_padded.shape[1]))\n",
    "model_ANN.add(Flatten())\n",
    "model_ANN.add(Dense(12, activation='relu'))\n",
    "model_ANN.add(Dense(8, activation='relu'))\n",
    "model_ANN.add(Dense(3, activation='softmax'))\n",
    "\n",
    "model_ANN.compile(loss='categorical_crossentropy', optimizer='adam', metrics=['accuracy'])\n",
    "model_ANN.summary()"
   ]
  },
  {
   "cell_type": "code",
   "execution_count": 27,
   "id": "a95dd3a7",
   "metadata": {
    "scrolled": true
   },
   "outputs": [
    {
     "name": "stdout",
     "output_type": "stream",
     "text": [
      "Epoch 1/100\n"
     ]
    },
    {
     "name": "stderr",
     "output_type": "stream",
     "text": [
      "C:\\Users\\moein\\AppData\\Roaming\\Python\\Python37\\site-packages\\tensorflow\\python\\data\\ops\\dataset_ops.py:3704: UserWarning: Even though the `tf.config.experimental_run_functions_eagerly` option is set, this option does not apply to tf.data functions. To force eager execution of tf.data functions, please use `tf.data.experimental.enable.debug_mode()`.\n",
      "  \"Even though the `tf.config.experimental_run_functions_eagerly` \"\n"
     ]
    },
    {
     "name": "stdout",
     "output_type": "stream",
     "text": [
      "70/70 [==============================] - 6s 34ms/step - loss: 1.0318 - accuracy: 0.5105 - val_loss: 1.0080 - val_accuracy: 0.5193\n",
      "Epoch 2/100\n",
      "70/70 [==============================] - 2s 35ms/step - loss: 0.8550 - accuracy: 0.6225 - val_loss: 0.7156 - val_accuracy: 0.7513\n",
      "Epoch 3/100\n",
      "70/70 [==============================] - 2s 35ms/step - loss: 0.2553 - accuracy: 0.9463 - val_loss: 0.4967 - val_accuracy: 0.8182\n",
      "Epoch 4/100\n",
      "70/70 [==============================] - 3s 38ms/step - loss: 0.0306 - accuracy: 0.9955 - val_loss: 0.6622 - val_accuracy: 0.7962\n",
      "Epoch 5/100\n",
      "70/70 [==============================] - 3s 41ms/step - loss: 0.0118 - accuracy: 0.9978 - val_loss: 0.6720 - val_accuracy: 0.8004\n",
      "Epoch 6/100\n",
      "70/70 [==============================] - 3s 37ms/step - loss: 0.0083 - accuracy: 0.9987 - val_loss: 0.6535 - val_accuracy: 0.8056\n",
      "Epoch 7/100\n",
      "70/70 [==============================] - 3s 41ms/step - loss: 0.0042 - accuracy: 0.9991 - val_loss: 0.8102 - val_accuracy: 0.7931\n",
      "Epoch 8/100\n",
      "70/70 [==============================] - 2s 35ms/step - loss: 0.0032 - accuracy: 0.9996 - val_loss: 0.7389 - val_accuracy: 0.7973\n",
      "Took 24.448 seconds to train\n"
     ]
    }
   ],
   "source": [
    "import time\n",
    "import numpy as np\n",
    "\n",
    "eps = 100\n",
    "start = time.time()\n",
    "history1 = model_ANN.fit(X_train_padded, y_train, validation_data = (X_test_padded, y_test),\n",
    "          epochs = eps, batch_size = 32, shuffle = True, callbacks = [es, chkpt1])\n",
    "\n",
    "end = time.time()\n",
    "print('Took {:.3f} seconds to train'.format(end-start))"
   ]
  },
  {
   "cell_type": "code",
   "execution_count": 28,
   "id": "cad8cb26",
   "metadata": {},
   "outputs": [
    {
     "data": {
      "text/plain": [
       "<tensorflow.python.training.tracking.util.CheckpointLoadStatus at 0x1836578d6c8>"
      ]
     },
     "execution_count": 28,
     "metadata": {},
     "output_type": "execute_result"
    }
   ],
   "source": [
    "model_ANN.load_weights('weights/ANN_weights')"
   ]
  },
  {
   "cell_type": "code",
   "execution_count": 29,
   "id": "c2fa91dd",
   "metadata": {},
   "outputs": [
    {
     "data": {
      "image/png": "[encoded data removed]",
      "text/plain": [
       "<Figure size 288x288 with 1 Axes>"
      ]
     },
     "metadata": {
      "needs_background": "light"
     },
     "output_type": "display_data"
    },
    {
     "name": "stdout",
     "output_type": "stream",
     "text": [
      "test F1 score: 0.796\n"
     ]
    }
   ],
   "source": [
    "eval_NN_model(model_ANN, X_test_padded, y_test)"
   ]
  },
  {
   "cell_type": "markdown",
   "id": "0ea97a86",
   "metadata": {},
   "source": [
    "#### RNN"
   ]
  },
  {
   "cell_type": "code",
   "execution_count": 30,
   "id": "3c67e965",
   "metadata": {},
   "outputs": [],
   "source": [
    "chkpt2 = tf.keras.callbacks.ModelCheckpoint(\n",
    "    'weights/RNN_weights', monitor='val_accuracy', verbose=0, save_best_only=True,\n",
    "    save_weights_only=True\n",
    ")"
   ]
  },
  {
   "cell_type": "code",
   "execution_count": 31,
   "id": "72d9cf8b",
   "metadata": {},
   "outputs": [
    {
     "name": "stdout",
     "output_type": "stream",
     "text": [
      "Model: \"sequential_1\"\n",
      "_________________________________________________________________\n",
      "Layer (type)                 Output Shape              Param #   \n",
      "=================================================================\n",
      "embedding_1 (Embedding)      (None, 431, 50)           767600    \n",
      "_________________________________________________________________\n",
      "lstm (LSTM)                  (None, 431, 50)           20200     \n",
      "_________________________________________________________________\n",
      "lstm_1 (LSTM)                (None, 50)                20200     \n",
      "_________________________________________________________________\n",
      "dense_3 (Dense)              (None, 3)                 153       \n",
      "=================================================================\n",
      "Total params: 808,153\n",
      "Trainable params: 808,153\n",
      "Non-trainable params: 0\n",
      "_________________________________________________________________\n"
     ]
    }
   ],
   "source": [
    "LSTM_UNITS = 50\n",
    "\n",
    "model_RNN = Sequential()\n",
    "model_RNN.add(Embedding(VOCAB_SIZE+1, EMB_DIM, input_length = X_train_padded.shape[1]))\n",
    "model_RNN.add(LSTM(units = LSTM_UNITS, return_sequences = True))\n",
    "model_RNN.add(LSTM(units = LSTM_UNITS))\n",
    "model_RNN.add(Dense(CLASS_NUM, activation = 'softmax'))\n",
    "\n",
    "model_RNN.compile(loss = 'categorical_crossentropy', \n",
    "                  optimizer = 'adam', metrics = ['accuracy'])\n",
    "model_RNN.summary()"
   ]
  },
  {
   "cell_type": "code",
   "execution_count": 32,
   "id": "e996e125",
   "metadata": {
    "scrolled": true
   },
   "outputs": [
    {
     "name": "stdout",
     "output_type": "stream",
     "text": [
      "Epoch 1/100\n"
     ]
    },
    {
     "name": "stderr",
     "output_type": "stream",
     "text": [
      "C:\\Users\\moein\\AppData\\Roaming\\Python\\Python37\\site-packages\\tensorflow\\python\\data\\ops\\dataset_ops.py:3704: UserWarning: Even though the `tf.config.experimental_run_functions_eagerly` option is set, this option does not apply to tf.data functions. To force eager execution of tf.data functions, please use `tf.data.experimental.enable.debug_mode()`.\n",
      "  \"Even though the `tf.config.experimental_run_functions_eagerly` \"\n"
     ]
    },
    {
     "name": "stdout",
     "output_type": "stream",
     "text": [
      "70/70 [==============================] - 6s 68ms/step - loss: 1.0060 - accuracy: 0.5316 - val_loss: 0.8916 - val_accuracy: 0.5987\n",
      "Epoch 2/100\n",
      "70/70 [==============================] - 5s 65ms/step - loss: 0.5565 - accuracy: 0.7340 - val_loss: 0.9274 - val_accuracy: 0.6082\n",
      "Epoch 3/100\n",
      "70/70 [==============================] - 4s 64ms/step - loss: 0.2714 - accuracy: 0.8854 - val_loss: 1.1106 - val_accuracy: 0.5987\n",
      "Epoch 4/100\n",
      "70/70 [==============================] - 4s 64ms/step - loss: 0.0942 - accuracy: 0.9713 - val_loss: 1.1302 - val_accuracy: 0.6479\n",
      "Epoch 5/100\n",
      "70/70 [==============================] - 4s 64ms/step - loss: 0.0315 - accuracy: 0.9946 - val_loss: 1.2178 - val_accuracy: 0.6938\n",
      "Epoch 6/100\n",
      "70/70 [==============================] - 5s 65ms/step - loss: 0.0194 - accuracy: 0.9973 - val_loss: 1.1748 - val_accuracy: 0.7043\n",
      "Epoch 7/100\n",
      "70/70 [==============================] - 4s 64ms/step - loss: 0.0157 - accuracy: 0.9973 - val_loss: 1.1008 - val_accuracy: 0.7200\n",
      "Epoch 8/100\n",
      "70/70 [==============================] - 4s 64ms/step - loss: 0.0098 - accuracy: 0.9987 - val_loss: 1.5128 - val_accuracy: 0.6552\n",
      "Epoch 9/100\n",
      "70/70 [==============================] - 4s 63ms/step - loss: 0.0116 - accuracy: 0.9987 - val_loss: 1.3722 - val_accuracy: 0.6792\n",
      "Epoch 10/100\n",
      "70/70 [==============================] - 4s 63ms/step - loss: 0.0129 - accuracy: 0.9978 - val_loss: 1.2896 - val_accuracy: 0.6876\n",
      "Epoch 11/100\n",
      "70/70 [==============================] - 4s 63ms/step - loss: 0.0100 - accuracy: 0.9987 - val_loss: 1.4119 - val_accuracy: 0.6855\n",
      "Epoch 12/100\n",
      "70/70 [==============================] - 4s 63ms/step - loss: 0.0061 - accuracy: 0.9991 - val_loss: 1.4117 - val_accuracy: 0.7095\n",
      "Took 55.370 seconds to train\n"
     ]
    }
   ],
   "source": [
    "start = time.time()\n",
    "history2 = model_RNN.fit(X_train_padded, y_train, validation_data = (X_test_padded, y_test),\n",
    "          epochs = eps, batch_size = 32, shuffle = True, callbacks = [es, chkpt2])\n",
    "end = time.time()\n",
    "print('Took {:.3f} seconds to train'.format(end-start))"
   ]
  },
  {
   "cell_type": "code",
   "execution_count": 33,
   "id": "6636f181",
   "metadata": {},
   "outputs": [
    {
     "data": {
      "text/plain": [
       "<tensorflow.python.training.tracking.util.CheckpointLoadStatus at 0x18378079748>"
      ]
     },
     "execution_count": 33,
     "metadata": {},
     "output_type": "execute_result"
    }
   ],
   "source": [
    "model_RNN.load_weights('weights/RNN_weights')"
   ]
  },
  {
   "cell_type": "code",
   "execution_count": 34,
   "id": "8c638f95",
   "metadata": {},
   "outputs": [
    {
     "data": {
      "image/png": "[encoded data removed]",
      "text/plain": [
       "<Figure size 288x288 with 1 Axes>"
      ]
     },
     "metadata": {
      "needs_background": "light"
     },
     "output_type": "display_data"
    },
    {
     "name": "stdout",
     "output_type": "stream",
     "text": [
      "test F1 score: 0.711\n"
     ]
    }
   ],
   "source": [
    "eval_NN_model(model_RNN, X_test_padded, y_test)"
   ]
  },
  {
   "cell_type": "markdown",
   "id": "5abe9b5a",
   "metadata": {},
   "source": [
    "#### CNN"
   ]
  },
  {
   "cell_type": "code",
   "execution_count": 35,
   "id": "c8d2d0b7",
   "metadata": {},
   "outputs": [],
   "source": [
    "chkpt3 = tf.keras.callbacks.ModelCheckpoint(\n",
    "    'weights/CNN_weights', monitor='val_accuracy', verbose=0, save_best_only=True,\n",
    "    save_weights_only=True\n",
    ")"
   ]
  },
  {
   "cell_type": "code",
   "execution_count": 36,
   "id": "25475425",
   "metadata": {},
   "outputs": [
    {
     "name": "stdout",
     "output_type": "stream",
     "text": [
      "Model: \"sequential_2\"\n",
      "_________________________________________________________________\n",
      "Layer (type)                 Output Shape              Param #   \n",
      "=================================================================\n",
      "embedding_2 (Embedding)      (None, 431, 50)           767600    \n",
      "_________________________________________________________________\n",
      "conv1d (Conv1D)              (None, 429, 100)          15100     \n",
      "_________________________________________________________________\n",
      "max_pooling1d (MaxPooling1D) (None, 214, 100)          0         \n",
      "_________________________________________________________________\n",
      "flatten_1 (Flatten)          (None, 21400)             0         \n",
      "_________________________________________________________________\n",
      "dropout (Dropout)            (None, 21400)             0         \n",
      "_________________________________________________________________\n",
      "dense_4 (Dense)              (None, 3)                 64203     \n",
      "=================================================================\n",
      "Total params: 846,903\n",
      "Trainable params: 846,903\n",
      "Non-trainable params: 0\n",
      "_________________________________________________________________\n"
     ]
    }
   ],
   "source": [
    "model_CNN = Sequential()\n",
    "model_CNN.add(Embedding(VOCAB_SIZE+1, EMB_DIM, input_length = X_train_padded.shape[1]))\n",
    "model_CNN.add(Conv1D(filters = 100, kernel_size = 3, activation='relu'))\n",
    "model_CNN.add(MaxPool1D(pool_size = 2, strides=2))\n",
    "model_CNN.add(Flatten())\n",
    "model_CNN.add(Dropout(0.5))\n",
    "model_CNN.add(Dense(CLASS_NUM, activation= 'softmax'))\n",
    "\n",
    "model_CNN.compile(loss = 'categorical_crossentropy', \n",
    "                  optimizer = 'adam', metrics = ['accuracy'])\n",
    "model_CNN.summary()"
   ]
  },
  {
   "cell_type": "code",
   "execution_count": 37,
   "id": "4929c5f5",
   "metadata": {
    "scrolled": true
   },
   "outputs": [
    {
     "name": "stdout",
     "output_type": "stream",
     "text": [
      "Epoch 1/100\n"
     ]
    },
    {
     "name": "stderr",
     "output_type": "stream",
     "text": [
      "C:\\Users\\moein\\AppData\\Roaming\\Python\\Python37\\site-packages\\tensorflow\\python\\data\\ops\\dataset_ops.py:3704: UserWarning: Even though the `tf.config.experimental_run_functions_eagerly` option is set, this option does not apply to tf.data functions. To force eager execution of tf.data functions, please use `tf.data.experimental.enable.debug_mode()`.\n",
      "  \"Even though the `tf.config.experimental_run_functions_eagerly` \"\n"
     ]
    },
    {
     "name": "stdout",
     "output_type": "stream",
     "text": [
      "70/70 [==============================] - 4s 39ms/step - loss: 1.0195 - accuracy: 0.5137 - val_loss: 0.9844 - val_accuracy: 0.5193\n",
      "Epoch 2/100\n",
      "70/70 [==============================] - 3s 41ms/step - loss: 0.7254 - accuracy: 0.6561 - val_loss: 0.5497 - val_accuracy: 0.8161\n",
      "Epoch 3/100\n",
      "70/70 [==============================] - 3s 41ms/step - loss: 0.1434 - accuracy: 0.9749 - val_loss: 0.3770 - val_accuracy: 0.8662\n",
      "Epoch 4/100\n",
      "70/70 [==============================] - 3s 41ms/step - loss: 0.0207 - accuracy: 0.9982 - val_loss: 0.3941 - val_accuracy: 0.8621\n",
      "Epoch 5/100\n",
      "70/70 [==============================] - 3s 40ms/step - loss: 0.0093 - accuracy: 0.9991 - val_loss: 0.3649 - val_accuracy: 0.8715\n",
      "Epoch 6/100\n",
      "70/70 [==============================] - 3s 42ms/step - loss: 0.0048 - accuracy: 0.9996 - val_loss: 0.3675 - val_accuracy: 0.8725\n",
      "Epoch 7/100\n",
      "70/70 [==============================] - 3s 41ms/step - loss: 0.0042 - accuracy: 0.9996 - val_loss: 0.3717 - val_accuracy: 0.8715\n",
      "Epoch 8/100\n",
      "70/70 [==============================] - 3s 42ms/step - loss: 0.0026 - accuracy: 0.9991 - val_loss: 0.3811 - val_accuracy: 0.8704\n",
      "Epoch 9/100\n",
      "70/70 [==============================] - 3s 40ms/step - loss: 0.0025 - accuracy: 0.9996 - val_loss: 0.3786 - val_accuracy: 0.8715\n",
      "Epoch 10/100\n",
      "70/70 [==============================] - 3s 40ms/step - loss: 0.0038 - accuracy: 0.9991 - val_loss: 0.4081 - val_accuracy: 0.8631\n",
      "Epoch 11/100\n",
      "70/70 [==============================] - 3s 41ms/step - loss: 0.0025 - accuracy: 0.9996 - val_loss: 0.3943 - val_accuracy: 0.8694\n",
      "Took 32.596 seconds to train\n"
     ]
    }
   ],
   "source": [
    "start = time.time()\n",
    "history3 = model_CNN.fit(X_train_padded, y_train, validation_data = (X_test_padded, y_test),\n",
    "          epochs = eps, batch_size = 32, shuffle = True, callbacks = [es, chkpt3])\n",
    "end = time.time()\n",
    "print('Took {:.3f} seconds to train'.format(end-start, eps))"
   ]
  },
  {
   "cell_type": "code",
   "execution_count": 38,
   "id": "478ba2d0",
   "metadata": {},
   "outputs": [
    {
     "data": {
      "text/plain": [
       "<tensorflow.python.training.tracking.util.CheckpointLoadStatus at 0x18378a3a8c8>"
      ]
     },
     "execution_count": 38,
     "metadata": {},
     "output_type": "execute_result"
    }
   ],
   "source": [
    "model_CNN.load_weights('weights/CNN_weights')"
   ]
  },
  {
   "cell_type": "code",
   "execution_count": 39,
   "id": "e33ce7b1",
   "metadata": {},
   "outputs": [
    {
     "data": {
      "image/png": "[encoded data removed]",
      "text/plain": [
       "<Figure size 288x288 with 1 Axes>"
      ]
     },
     "metadata": {
      "needs_background": "light"
     },
     "output_type": "display_data"
    },
    {
     "name": "stdout",
     "output_type": "stream",
     "text": [
      "test F1 score: 0.866\n"
     ]
    }
   ],
   "source": [
    "eval_NN_model(model_CNN, X_test_padded, y_test)"
   ]
  }
 ],
 "metadata": {
  "kernelspec": {
   "display_name": "Python 3",
   "language": "python",
   "name": "python3"
  },
  "language_info": {
   "codemirror_mode": {
    "name": "ipython",
    "version": 3
   },
   "file_extension": ".py",
   "mimetype": "text/x-python",
   "name": "python",
   "nbconvert_exporter": "python",
   "pygments_lexer": "ipython3",
   "version": "3.8.8"
  }
 },
 "nbformat": 4,
 "nbformat_minor": 5
}
