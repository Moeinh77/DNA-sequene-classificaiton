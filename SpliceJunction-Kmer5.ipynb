{
 "cells": [
  {
   "cell_type": "markdown",
   "id": "c8ac8c82",
   "metadata": {},
   "source": [
    "Splice junctions are points on a DNA sequence at which `superfluous' DNA is removed during the process of protein creation in higher organisms. The problem posed in this dataset is to recognize, given a sequence of DNA, the boundaries between exons (the parts of the DNA sequence retained after splicing) and introns (the parts of the DNA sequence that are spliced out). This problem consists of two subtasks: recognizing exon/intron boundaries (referred to as EI sites), and recognizing intron/exon boundaries (IE sites). (In the biological community, IE borders are referred to a ``acceptors'' while EI borders are referred to as ``donors''.)"
   ]
  },
  {
   "cell_type": "markdown",
   "id": "57d67a01",
   "metadata": {},
   "source": [
    "Attribute Information:\n",
    "\n",
    "* 1. One of {n ei ie}, indicating the class.\n",
    "* 2. The instance name.\n",
    "* 3-62. The remaining 60 fields are the sequence, starting at position -30 and ending at position +30. Each of these fields is almost always filled by one of {a, g, t, c}. Other characters indicate ambiguity among the standard characters according to the following table:\n"
   ]
  },
  {
   "cell_type": "code",
   "execution_count": 1,
   "id": "59940d4e",
   "metadata": {},
   "outputs": [],
   "source": [
    "import pandas as pd \n",
    "import matplotlib.pyplot as plt\n",
    "import seaborn as sns\n",
    "from sklearn.metrics import f1_score\n",
    "from sklearn.feature_extraction.text import CountVectorizer\n",
    "from sklearn.model_selection import train_test_split\n",
    "from sklearn.metrics import confusion_matrix\n",
    "from mlxtend.plotting import plot_confusion_matrix\n",
    "from tensorflow.keras.utils import to_categorical\n",
    "import tensorflow as tf\n",
    "tf.config.run_functions_eagerly(True)\n",
    "import time"
   ]
  },
  {
   "cell_type": "code",
   "execution_count": 2,
   "id": "0c24ce30",
   "metadata": {},
   "outputs": [],
   "source": [
    "# size of our kmer words\n",
    "k_mer = 5\n",
    "# dimesnion space of our embedding layer\n",
    "EMB_DIM = 50"
   ]
  },
  {
   "cell_type": "markdown",
   "id": "0d242348",
   "metadata": {},
   "source": [
    "#### reading and exploring the data"
   ]
  },
  {
   "cell_type": "code",
   "execution_count": 3,
   "id": "10cd799e",
   "metadata": {},
   "outputs": [
    {
     "data": {
      "text/html": [
       "<div>\n",
       "<style scoped>\n",
       "    .dataframe tbody tr th:only-of-type {\n",
       "        vertical-align: middle;\n",
       "    }\n",
       "\n",
       "    .dataframe tbody tr th {\n",
       "        vertical-align: top;\n",
       "    }\n",
       "\n",
       "    .dataframe thead th {\n",
       "        text-align: right;\n",
       "    }\n",
       "</style>\n",
       "<table border=\"1\" class=\"dataframe\">\n",
       "  <thead>\n",
       "    <tr style=\"text-align: right;\">\n",
       "      <th></th>\n",
       "      <th>class</th>\n",
       "      <th>donor</th>\n",
       "      <th>sequence</th>\n",
       "    </tr>\n",
       "  </thead>\n",
       "  <tbody>\n",
       "    <tr>\n",
       "      <th>0</th>\n",
       "      <td>EI</td>\n",
       "      <td>ATRINS-DONOR-521</td>\n",
       "      <td>CCAGCTGCATCACAGGAGGCCAGCGAGCAGG...</td>\n",
       "    </tr>\n",
       "    <tr>\n",
       "      <th>1</th>\n",
       "      <td>EI</td>\n",
       "      <td>ATRINS-DONOR-905</td>\n",
       "      <td>AGACCCGCCGGGAGGCGGAGGACCTGCAGGG...</td>\n",
       "    </tr>\n",
       "    <tr>\n",
       "      <th>2</th>\n",
       "      <td>EI</td>\n",
       "      <td>BABAPOE-DONOR-30</td>\n",
       "      <td>GAGGTGAAGGACGTCCTTCCCCAGGAGCCGG...</td>\n",
       "    </tr>\n",
       "    <tr>\n",
       "      <th>3</th>\n",
       "      <td>EI</td>\n",
       "      <td>BABAPOE-DONOR-867</td>\n",
       "      <td>GGGCTGCGTTGCTGGTCACATTCCTGGCAGGT...</td>\n",
       "    </tr>\n",
       "    <tr>\n",
       "      <th>4</th>\n",
       "      <td>EI</td>\n",
       "      <td>BABAPOE-DONOR-2817</td>\n",
       "      <td>GCTCAGCCCCCAGGTCACCCAGGAACTGACGTG...</td>\n",
       "    </tr>\n",
       "  </tbody>\n",
       "</table>\n",
       "</div>"
      ],
      "text/plain": [
       "  class                   donor  \\\n",
       "0    EI        ATRINS-DONOR-521   \n",
       "1    EI        ATRINS-DONOR-905   \n",
       "2    EI        BABAPOE-DONOR-30   \n",
       "3    EI       BABAPOE-DONOR-867   \n",
       "4    EI      BABAPOE-DONOR-2817   \n",
       "\n",
       "                                            sequence  \n",
       "0                 CCAGCTGCATCACAGGAGGCCAGCGAGCAGG...  \n",
       "1                 AGACCCGCCGGGAGGCGGAGGACCTGCAGGG...  \n",
       "2                 GAGGTGAAGGACGTCCTTCCCCAGGAGCCGG...  \n",
       "3                GGGCTGCGTTGCTGGTCACATTCCTGGCAGGT...  \n",
       "4               GCTCAGCCCCCAGGTCACCCAGGAACTGACGTG...  "
      ]
     },
     "execution_count": 3,
     "metadata": {},
     "output_type": "execute_result"
    }
   ],
   "source": [
    "splice_data = pd.read_csv('splice.data', header=None, names = ['class', 'donor', 'sequence'])\n",
    "splice_data.head()"
   ]
  },
  {
   "cell_type": "code",
   "execution_count": 4,
   "id": "c2596fbe",
   "metadata": {},
   "outputs": [],
   "source": [
    "# we have 3 classes in this dataset\n",
    "CLASS_NUM = 3"
   ]
  },
  {
   "cell_type": "code",
   "execution_count": 5,
   "id": "92aa0dc1",
   "metadata": {},
   "outputs": [
    {
     "data": {
      "text/plain": [
       "3190"
      ]
     },
     "execution_count": 5,
     "metadata": {},
     "output_type": "execute_result"
    }
   ],
   "source": [
    "len(splice_data)"
   ]
  },
  {
   "cell_type": "code",
   "execution_count": 6,
   "id": "f77cb3e9",
   "metadata": {},
   "outputs": [
    {
     "data": {
      "text/html": [
       "<div>\n",
       "<style scoped>\n",
       "    .dataframe tbody tr th:only-of-type {\n",
       "        vertical-align: middle;\n",
       "    }\n",
       "\n",
       "    .dataframe tbody tr th {\n",
       "        vertical-align: top;\n",
       "    }\n",
       "\n",
       "    .dataframe thead th {\n",
       "        text-align: right;\n",
       "    }\n",
       "</style>\n",
       "<table border=\"1\" class=\"dataframe\">\n",
       "  <thead>\n",
       "    <tr style=\"text-align: right;\">\n",
       "      <th></th>\n",
       "      <th>class</th>\n",
       "      <th>donor</th>\n",
       "      <th>sequence</th>\n",
       "    </tr>\n",
       "  </thead>\n",
       "  <tbody>\n",
       "    <tr>\n",
       "      <th>0</th>\n",
       "      <td>EI</td>\n",
       "      <td>ATRINS-DONOR-521</td>\n",
       "      <td>CCAGCTGCATCACAGGAGGCCAGCGAGCAGG...</td>\n",
       "    </tr>\n",
       "    <tr>\n",
       "      <th>1</th>\n",
       "      <td>EI</td>\n",
       "      <td>ATRINS-DONOR-905</td>\n",
       "      <td>AGACCCGCCGGGAGGCGGAGGACCTGCAGGG...</td>\n",
       "    </tr>\n",
       "    <tr>\n",
       "      <th>2</th>\n",
       "      <td>EI</td>\n",
       "      <td>BABAPOE-DONOR-30</td>\n",
       "      <td>GAGGTGAAGGACGTCCTTCCCCAGGAGCCGG...</td>\n",
       "    </tr>\n",
       "    <tr>\n",
       "      <th>3</th>\n",
       "      <td>EI</td>\n",
       "      <td>BABAPOE-DONOR-867</td>\n",
       "      <td>GGGCTGCGTTGCTGGTCACATTCCTGGCAGGT...</td>\n",
       "    </tr>\n",
       "    <tr>\n",
       "      <th>4</th>\n",
       "      <td>EI</td>\n",
       "      <td>BABAPOE-DONOR-2817</td>\n",
       "      <td>GCTCAGCCCCCAGGTCACCCAGGAACTGACGTG...</td>\n",
       "    </tr>\n",
       "  </tbody>\n",
       "</table>\n",
       "</div>"
      ],
      "text/plain": [
       "  class                   donor  \\\n",
       "0    EI        ATRINS-DONOR-521   \n",
       "1    EI        ATRINS-DONOR-905   \n",
       "2    EI        BABAPOE-DONOR-30   \n",
       "3    EI       BABAPOE-DONOR-867   \n",
       "4    EI      BABAPOE-DONOR-2817   \n",
       "\n",
       "                                            sequence  \n",
       "0                 CCAGCTGCATCACAGGAGGCCAGCGAGCAGG...  \n",
       "1                 AGACCCGCCGGGAGGCGGAGGACCTGCAGGG...  \n",
       "2                 GAGGTGAAGGACGTCCTTCCCCAGGAGCCGG...  \n",
       "3                GGGCTGCGTTGCTGGTCACATTCCTGGCAGGT...  \n",
       "4               GCTCAGCCCCCAGGTCACCCAGGAACTGACGTG...  "
      ]
     },
     "execution_count": 6,
     "metadata": {},
     "output_type": "execute_result"
    }
   ],
   "source": [
    "splice_data['sequence'] = splice_data.apply(lambda x: str(x['sequence']), axis=1)\n",
    "splice_data.head()"
   ]
  },
  {
   "cell_type": "code",
   "execution_count": 7,
   "id": "2464342e",
   "metadata": {},
   "outputs": [
    {
     "data": {
      "text/plain": [
       "N     1655\n",
       "IE     768\n",
       "EI     767\n",
       "Name: class, dtype: int64"
      ]
     },
     "execution_count": 7,
     "metadata": {},
     "output_type": "execute_result"
    }
   ],
   "source": [
    "splice_data['class'].value_counts()"
   ]
  },
  {
   "cell_type": "code",
   "execution_count": 8,
   "id": "ae0aa416",
   "metadata": {},
   "outputs": [
    {
     "data": {
      "image/png": "[encoded data removed]",
      "text/plain": [
       "<Figure size 432x288 with 1 Axes>"
      ]
     },
     "metadata": {
      "needs_background": "light"
     },
     "output_type": "display_data"
    }
   ],
   "source": [
    "sns.countplot(x =splice_data['class'])\n",
    "plt.title(\"Class Dist in data\")\n",
    "plt.show()"
   ]
  },
  {
   "cell_type": "code",
   "execution_count": 9,
   "id": "b413ca3c",
   "metadata": {
    "scrolled": true
   },
   "outputs": [
    {
     "data": {
      "text/plain": [
       "['ccagc', 'cagct', 'agctg']"
      ]
     },
     "execution_count": 9,
     "metadata": {},
     "output_type": "execute_result"
    }
   ],
   "source": [
    "def kmer_fun(seq, win_size):\n",
    "    kmer_list = []\n",
    "    for x in range(len(seq) - win_size + 1):\n",
    "        kmer_list.append(seq[x:x+win_size].lower())\n",
    "    return kmer_list\n",
    "\n",
    "#So let’s try it out with a simple sequence:\n",
    "mySeq = 'CCAGCTG'\n",
    "kmer_fun(mySeq, win_size= k_mer)"
   ]
  },
  {
   "cell_type": "code",
   "execution_count": 10,
   "id": "c268fa2d",
   "metadata": {},
   "outputs": [
    {
     "data": {
      "text/html": [
       "<div>\n",
       "<style scoped>\n",
       "    .dataframe tbody tr th:only-of-type {\n",
       "        vertical-align: middle;\n",
       "    }\n",
       "\n",
       "    .dataframe tbody tr th {\n",
       "        vertical-align: top;\n",
       "    }\n",
       "\n",
       "    .dataframe thead th {\n",
       "        text-align: right;\n",
       "    }\n",
       "</style>\n",
       "<table border=\"1\" class=\"dataframe\">\n",
       "  <thead>\n",
       "    <tr style=\"text-align: right;\">\n",
       "      <th></th>\n",
       "      <th>class</th>\n",
       "      <th>donor</th>\n",
       "      <th>sequence</th>\n",
       "    </tr>\n",
       "  </thead>\n",
       "  <tbody>\n",
       "    <tr>\n",
       "      <th>0</th>\n",
       "      <td>EI</td>\n",
       "      <td>ATRINS-DONOR-521</td>\n",
       "      <td>CCAGCTGCATCACAGGAGGCCAGCGAGCAGGTCTGTTCCAAGGGCC...</td>\n",
       "    </tr>\n",
       "    <tr>\n",
       "      <th>1</th>\n",
       "      <td>EI</td>\n",
       "      <td>ATRINS-DONOR-905</td>\n",
       "      <td>AGACCCGCCGGGAGGCGGAGGACCTGCAGGGTGAGCCCCACCGCCC...</td>\n",
       "    </tr>\n",
       "    <tr>\n",
       "      <th>2</th>\n",
       "      <td>EI</td>\n",
       "      <td>BABAPOE-DONOR-30</td>\n",
       "      <td>GAGGTGAAGGACGTCCTTCCCCAGGAGCCGGTGAGAAGCGCAGTCG...</td>\n",
       "    </tr>\n",
       "    <tr>\n",
       "      <th>3</th>\n",
       "      <td>EI</td>\n",
       "      <td>BABAPOE-DONOR-867</td>\n",
       "      <td>GGGCTGCGTTGCTGGTCACATTCCTGGCAGGTATGGGGCGGGGCTT...</td>\n",
       "    </tr>\n",
       "    <tr>\n",
       "      <th>4</th>\n",
       "      <td>EI</td>\n",
       "      <td>BABAPOE-DONOR-2817</td>\n",
       "      <td>GCTCAGCCCCCAGGTCACCCAGGAACTGACGTGAGTGTCCCCATCC...</td>\n",
       "    </tr>\n",
       "  </tbody>\n",
       "</table>\n",
       "</div>"
      ],
      "text/plain": [
       "  class                   donor  \\\n",
       "0    EI        ATRINS-DONOR-521   \n",
       "1    EI        ATRINS-DONOR-905   \n",
       "2    EI        BABAPOE-DONOR-30   \n",
       "3    EI       BABAPOE-DONOR-867   \n",
       "4    EI      BABAPOE-DONOR-2817   \n",
       "\n",
       "                                            sequence  \n",
       "0  CCAGCTGCATCACAGGAGGCCAGCGAGCAGGTCTGTTCCAAGGGCC...  \n",
       "1  AGACCCGCCGGGAGGCGGAGGACCTGCAGGGTGAGCCCCACCGCCC...  \n",
       "2  GAGGTGAAGGACGTCCTTCCCCAGGAGCCGGTGAGAAGCGCAGTCG...  \n",
       "3  GGGCTGCGTTGCTGGTCACATTCCTGGCAGGTATGGGGCGGGGCTT...  \n",
       "4  GCTCAGCCCCCAGGTCACCCAGGAACTGACGTGAGTGTCCCCATCC...  "
      ]
     },
     "execution_count": 10,
     "metadata": {},
     "output_type": "execute_result"
    }
   ],
   "source": [
    "splice_data['sequence'] = splice_data.apply(lambda x : x['sequence'].strip(), axis = 1)\n",
    "splice_data.head()"
   ]
  },
  {
   "cell_type": "code",
   "execution_count": 11,
   "id": "c795aaf2",
   "metadata": {},
   "outputs": [
    {
     "data": {
      "text/html": [
       "<div>\n",
       "<style scoped>\n",
       "    .dataframe tbody tr th:only-of-type {\n",
       "        vertical-align: middle;\n",
       "    }\n",
       "\n",
       "    .dataframe tbody tr th {\n",
       "        vertical-align: top;\n",
       "    }\n",
       "\n",
       "    .dataframe thead th {\n",
       "        text-align: right;\n",
       "    }\n",
       "</style>\n",
       "<table border=\"1\" class=\"dataframe\">\n",
       "  <thead>\n",
       "    <tr style=\"text-align: right;\">\n",
       "      <th></th>\n",
       "      <th>class</th>\n",
       "      <th>donor</th>\n",
       "      <th>sequence</th>\n",
       "      <th>5-mer</th>\n",
       "    </tr>\n",
       "  </thead>\n",
       "  <tbody>\n",
       "    <tr>\n",
       "      <th>0</th>\n",
       "      <td>EI</td>\n",
       "      <td>ATRINS-DONOR-521</td>\n",
       "      <td>CCAGCTGCATCACAGGAGGCCAGCGAGCAGGTCTGTTCCAAGGGCC...</td>\n",
       "      <td>[ccagc, cagct, agctg, gctgc, ctgca, tgcat, gca...</td>\n",
       "    </tr>\n",
       "    <tr>\n",
       "      <th>1</th>\n",
       "      <td>EI</td>\n",
       "      <td>ATRINS-DONOR-905</td>\n",
       "      <td>AGACCCGCCGGGAGGCGGAGGACCTGCAGGGTGAGCCCCACCGCCC...</td>\n",
       "      <td>[agacc, gaccc, acccg, cccgc, ccgcc, cgccg, gcc...</td>\n",
       "    </tr>\n",
       "    <tr>\n",
       "      <th>2</th>\n",
       "      <td>EI</td>\n",
       "      <td>BABAPOE-DONOR-30</td>\n",
       "      <td>GAGGTGAAGGACGTCCTTCCCCAGGAGCCGGTGAGAAGCGCAGTCG...</td>\n",
       "      <td>[gaggt, aggtg, ggtga, gtgaa, tgaag, gaagg, aag...</td>\n",
       "    </tr>\n",
       "    <tr>\n",
       "      <th>3</th>\n",
       "      <td>EI</td>\n",
       "      <td>BABAPOE-DONOR-867</td>\n",
       "      <td>GGGCTGCGTTGCTGGTCACATTCCTGGCAGGTATGGGGCGGGGCTT...</td>\n",
       "      <td>[gggct, ggctg, gctgc, ctgcg, tgcgt, gcgtt, cgt...</td>\n",
       "    </tr>\n",
       "    <tr>\n",
       "      <th>4</th>\n",
       "      <td>EI</td>\n",
       "      <td>BABAPOE-DONOR-2817</td>\n",
       "      <td>GCTCAGCCCCCAGGTCACCCAGGAACTGACGTGAGTGTCCCCATCC...</td>\n",
       "      <td>[gctca, ctcag, tcagc, cagcc, agccc, gcccc, ccc...</td>\n",
       "    </tr>\n",
       "  </tbody>\n",
       "</table>\n",
       "</div>"
      ],
      "text/plain": [
       "  class                   donor  \\\n",
       "0    EI        ATRINS-DONOR-521   \n",
       "1    EI        ATRINS-DONOR-905   \n",
       "2    EI        BABAPOE-DONOR-30   \n",
       "3    EI       BABAPOE-DONOR-867   \n",
       "4    EI      BABAPOE-DONOR-2817   \n",
       "\n",
       "                                            sequence  \\\n",
       "0  CCAGCTGCATCACAGGAGGCCAGCGAGCAGGTCTGTTCCAAGGGCC...   \n",
       "1  AGACCCGCCGGGAGGCGGAGGACCTGCAGGGTGAGCCCCACCGCCC...   \n",
       "2  GAGGTGAAGGACGTCCTTCCCCAGGAGCCGGTGAGAAGCGCAGTCG...   \n",
       "3  GGGCTGCGTTGCTGGTCACATTCCTGGCAGGTATGGGGCGGGGCTT...   \n",
       "4  GCTCAGCCCCCAGGTCACCCAGGAACTGACGTGAGTGTCCCCATCC...   \n",
       "\n",
       "                                               5-mer  \n",
       "0  [ccagc, cagct, agctg, gctgc, ctgca, tgcat, gca...  \n",
       "1  [agacc, gaccc, acccg, cccgc, ccgcc, cgccg, gcc...  \n",
       "2  [gaggt, aggtg, ggtga, gtgaa, tgaag, gaagg, aag...  \n",
       "3  [gggct, ggctg, gctgc, ctgcg, tgcgt, gcgtt, cgt...  \n",
       "4  [gctca, ctcag, tcagc, cagcc, agccc, gcccc, ccc...  "
      ]
     },
     "execution_count": 11,
     "metadata": {},
     "output_type": "execute_result"
    }
   ],
   "source": [
    "splice_data[str(k_mer)+'-mer'] = splice_data.apply(lambda x : kmer_fun(x['sequence']\n",
    "                                                    , win_size= k_mer), axis = 1)\n",
    "splice_data.head()"
   ]
  },
  {
   "cell_type": "code",
   "execution_count": 12,
   "id": "2282a335",
   "metadata": {},
   "outputs": [
    {
     "data": {
      "text/html": [
       "<div>\n",
       "<style scoped>\n",
       "    .dataframe tbody tr th:only-of-type {\n",
       "        vertical-align: middle;\n",
       "    }\n",
       "\n",
       "    .dataframe tbody tr th {\n",
       "        vertical-align: top;\n",
       "    }\n",
       "\n",
       "    .dataframe thead th {\n",
       "        text-align: right;\n",
       "    }\n",
       "</style>\n",
       "<table border=\"1\" class=\"dataframe\">\n",
       "  <thead>\n",
       "    <tr style=\"text-align: right;\">\n",
       "      <th></th>\n",
       "      <th>class</th>\n",
       "      <th>donor</th>\n",
       "      <th>sequence</th>\n",
       "      <th>5-mer</th>\n",
       "    </tr>\n",
       "  </thead>\n",
       "  <tbody>\n",
       "    <tr>\n",
       "      <th>0</th>\n",
       "      <td>0</td>\n",
       "      <td>ATRINS-DONOR-521</td>\n",
       "      <td>CCAGCTGCATCACAGGAGGCCAGCGAGCAGGTCTGTTCCAAGGGCC...</td>\n",
       "      <td>[ccagc, cagct, agctg, gctgc, ctgca, tgcat, gca...</td>\n",
       "    </tr>\n",
       "    <tr>\n",
       "      <th>1</th>\n",
       "      <td>0</td>\n",
       "      <td>ATRINS-DONOR-905</td>\n",
       "      <td>AGACCCGCCGGGAGGCGGAGGACCTGCAGGGTGAGCCCCACCGCCC...</td>\n",
       "      <td>[agacc, gaccc, acccg, cccgc, ccgcc, cgccg, gcc...</td>\n",
       "    </tr>\n",
       "    <tr>\n",
       "      <th>2</th>\n",
       "      <td>0</td>\n",
       "      <td>BABAPOE-DONOR-30</td>\n",
       "      <td>GAGGTGAAGGACGTCCTTCCCCAGGAGCCGGTGAGAAGCGCAGTCG...</td>\n",
       "      <td>[gaggt, aggtg, ggtga, gtgaa, tgaag, gaagg, aag...</td>\n",
       "    </tr>\n",
       "    <tr>\n",
       "      <th>3</th>\n",
       "      <td>0</td>\n",
       "      <td>BABAPOE-DONOR-867</td>\n",
       "      <td>GGGCTGCGTTGCTGGTCACATTCCTGGCAGGTATGGGGCGGGGCTT...</td>\n",
       "      <td>[gggct, ggctg, gctgc, ctgcg, tgcgt, gcgtt, cgt...</td>\n",
       "    </tr>\n",
       "    <tr>\n",
       "      <th>4</th>\n",
       "      <td>0</td>\n",
       "      <td>BABAPOE-DONOR-2817</td>\n",
       "      <td>GCTCAGCCCCCAGGTCACCCAGGAACTGACGTGAGTGTCCCCATCC...</td>\n",
       "      <td>[gctca, ctcag, tcagc, cagcc, agccc, gcccc, ccc...</td>\n",
       "    </tr>\n",
       "  </tbody>\n",
       "</table>\n",
       "</div>"
      ],
      "text/plain": [
       "   class                   donor  \\\n",
       "0      0        ATRINS-DONOR-521   \n",
       "1      0        ATRINS-DONOR-905   \n",
       "2      0        BABAPOE-DONOR-30   \n",
       "3      0       BABAPOE-DONOR-867   \n",
       "4      0      BABAPOE-DONOR-2817   \n",
       "\n",
       "                                            sequence  \\\n",
       "0  CCAGCTGCATCACAGGAGGCCAGCGAGCAGGTCTGTTCCAAGGGCC...   \n",
       "1  AGACCCGCCGGGAGGCGGAGGACCTGCAGGGTGAGCCCCACCGCCC...   \n",
       "2  GAGGTGAAGGACGTCCTTCCCCAGGAGCCGGTGAGAAGCGCAGTCG...   \n",
       "3  GGGCTGCGTTGCTGGTCACATTCCTGGCAGGTATGGGGCGGGGCTT...   \n",
       "4  GCTCAGCCCCCAGGTCACCCAGGAACTGACGTGAGTGTCCCCATCC...   \n",
       "\n",
       "                                               5-mer  \n",
       "0  [ccagc, cagct, agctg, gctgc, ctgca, tgcat, gca...  \n",
       "1  [agacc, gaccc, acccg, cccgc, ccgcc, cgccg, gcc...  \n",
       "2  [gaggt, aggtg, ggtga, gtgaa, tgaag, gaagg, aag...  \n",
       "3  [gggct, ggctg, gctgc, ctgcg, tgcgt, gcgtt, cgt...  \n",
       "4  [gctca, ctcag, tcagc, cagcc, agccc, gcccc, ccc...  "
      ]
     },
     "execution_count": 12,
     "metadata": {},
     "output_type": "execute_result"
    }
   ],
   "source": [
    "from sklearn import preprocessing\n",
    "le = preprocessing.LabelEncoder()\n",
    "splice_data['class'] = le.fit_transform(splice_data['class'])\n",
    "splice_data.head()"
   ]
  },
  {
   "cell_type": "code",
   "execution_count": 13,
   "id": "5b44687c",
   "metadata": {},
   "outputs": [
    {
     "name": "stdout",
     "output_type": "stream",
     "text": [
      "Sample 1:  ccagc cagct agctg gctgc ctgca tgcat gcatc catca atcac tcaca cacag acagg cagga aggag ggagg gaggc aggcc ggcca gccag ccagc cagcg agcga gcgag cgagc gagca agcag gcagg caggt aggtc ggtct gtctg tctgt ctgtt tgttc gttcc ttcca tccaa ccaag caagg aaggg agggc gggcc ggcct gcctt ccttc cttcg ttcga tcgag cgagc gagcc agcca gccag ccagt cagtc agtct gtctg\n"
     ]
    }
   ],
   "source": [
    "# making sentences based on the k-mers\n",
    "dna_texts = list(splice_data[str(k_mer)+'-mer'])\n",
    "for item in range(len(dna_texts)):\n",
    "    dna_texts[item] = ' '.join(dna_texts[item])\n",
    "\n",
    "print('Sample 1: ', dna_texts[0])"
   ]
  },
  {
   "cell_type": "code",
   "execution_count": 14,
   "id": "528f9765",
   "metadata": {},
   "outputs": [],
   "source": [
    "# get the labels\n",
    "y = splice_data['class'].values "
   ]
  },
  {
   "cell_type": "code",
   "execution_count": 15,
   "id": "45e9a6a3",
   "metadata": {},
   "outputs": [],
   "source": [
    "# seperating the texts to train and test\n",
    "X_train, X_test, y_train, y_test = train_test_split(dna_texts,\n",
    "                                                    y,\n",
    "                                                   random_state=42,\n",
    "                                                   test_size=0.3,\n",
    "                                                   stratify=y)\n"
   ]
  },
  {
   "cell_type": "code",
   "execution_count": 16,
   "id": "ce9ff1ce",
   "metadata": {},
   "outputs": [
    {
     "data": {
      "text/plain": [
       "(2233, 957)"
      ]
     },
     "execution_count": 16,
     "metadata": {},
     "output_type": "execute_result"
    }
   ],
   "source": [
    "len(X_train), len(X_test)"
   ]
  },
  {
   "cell_type": "code",
   "execution_count": 17,
   "id": "1219a7e0",
   "metadata": {},
   "outputs": [],
   "source": [
    "# converting the labels to categorical one hot encoded format\n",
    "y_train = to_categorical(y_train)\n",
    "y_test = to_categorical(y_test)"
   ]
  },
  {
   "cell_type": "code",
   "execution_count": 18,
   "id": "2ddc3c08",
   "metadata": {},
   "outputs": [
    {
     "data": {
      "text/plain": [
       "((2233, 3), (957, 3))"
      ]
     },
     "execution_count": 18,
     "metadata": {},
     "output_type": "execute_result"
    }
   ],
   "source": [
    "y_train.shape, y_test.shape"
   ]
  },
  {
   "cell_type": "code",
   "execution_count": 19,
   "id": "0d64783f",
   "metadata": {},
   "outputs": [
    {
     "name": "stdout",
     "output_type": "stream",
     "text": [
      "Found 1075 unique tokens.\n"
     ]
    }
   ],
   "source": [
    "from tensorflow.keras.preprocessing.text import Tokenizer\n",
    "from tensorflow.keras.preprocessing.sequence import pad_sequences\n",
    "\n",
    "tokenizer = Tokenizer()\n",
    "tokenizer.fit_on_texts(X_train)\n",
    "word_index = tokenizer.word_index\n",
    "print('Found %s unique tokens.' % len(word_index))\n",
    "VOCAB_SIZE = len(word_index)"
   ]
  },
  {
   "cell_type": "code",
   "execution_count": 20,
   "id": "b4a56a04",
   "metadata": {},
   "outputs": [
    {
     "name": "stdout",
     "output_type": "stream",
     "text": [
      "Sample 1 sequence:  [361, 603, 460, 650, 288, 90, 131, 362, 845, 614, 888, 731, 191, 425, 317, 341, 245, 454, 188, 151, 376, 333, 217, 432, 143, 68, 55, 387, 492, 534, 535, 283, 81, 237, 277, 290, 223, 368, 145, 197, 100, 214, 191, 426, 388, 722, 876, 593, 562, 82, 363, 665, 751, 745, 496, 368]\n",
      "\n",
      "Shape of train data tensor: (2233, 335)\n"
     ]
    }
   ],
   "source": [
    "X_train_seq = tokenizer.texts_to_sequences(X_train)\n",
    "print('Sample 1 sequence: ', X_train_seq[0])\n",
    "print()\n",
    "X_train_padded = pad_sequences(X_train_seq, maxlen=len(X_train[0]))\n",
    "print('Shape of train data tensor:', X_train_padded.shape)"
   ]
  },
  {
   "cell_type": "code",
   "execution_count": 21,
   "id": "6dc76801",
   "metadata": {},
   "outputs": [
    {
     "name": "stdout",
     "output_type": "stream",
     "text": [
      "Sample 1 sequence:  [331, 143, 14, 227, 106, 69, 81, 278, 205, 111, 93, 60, 28, 78, 129, 215, 118, 186, 5, 75, 56, 172, 306, 144, 251, 304, 37, 233, 665, 198, 184, 509, 127, 9, 12, 82, 121, 43, 38, 306, 144, 251, 304, 37, 119, 233, 115, 449, 439, 519, 708, 367, 394, 521, 225, 321]\n",
      "\n",
      "Shape of test data tensor: (957, 335)\n"
     ]
    }
   ],
   "source": [
    "X_test_seq = tokenizer.texts_to_sequences(X_test)\n",
    "print('Sample 1 sequence: ',X_test_seq[0])\n",
    "print()\n",
    "X_test_padded = pad_sequences(X_test_seq, maxlen= len(X_train[0]))\n",
    "print('Shape of test data tensor:', X_test_padded.shape)"
   ]
  },
  {
   "cell_type": "markdown",
   "id": "877c2fe6",
   "metadata": {},
   "source": [
    "### Helper funtions"
   ]
  },
  {
   "cell_type": "code",
   "execution_count": 22,
   "id": "f33a0c8b",
   "metadata": {},
   "outputs": [],
   "source": [
    "# the funciton will draw a heat map\n",
    "def eval_NN_model(model, X_test, y_test, title= 'Heat map'):\n",
    "    predictions = model.predict(X_test)\n",
    "    preds_int = np.argmax(predictions, axis = 1)\n",
    "    y_test_int = np.argmax(y_test, axis = 1)\n",
    "    cm = confusion_matrix(y_test_int, preds_int)\n",
    "    plot_confusion_matrix(cm, figsize=(4,4), hide_ticks=True ,cmap=plt.cm.Blues)\n",
    "    plt.title(title)\n",
    "    plt.xticks(range(CLASS_NUM), [str(i) for i in range(CLASS_NUM)], fontsize=12)\n",
    "    plt.yticks(range(CLASS_NUM), [str(i) for i in range(CLASS_NUM)], fontsize=12)\n",
    "    plt.show()\n",
    "    \n",
    "    f1_test = f1_score(y_test_int, preds_int, average = 'macro')\n",
    "    print('test F1 score: {:.3f}'.format(f1_test))"
   ]
  },
  {
   "cell_type": "markdown",
   "id": "d811b5de",
   "metadata": {},
   "source": [
    "### Models"
   ]
  },
  {
   "cell_type": "code",
   "execution_count": 23,
   "id": "a570ac85",
   "metadata": {},
   "outputs": [],
   "source": [
    "from tensorflow.keras.models import Sequential\n",
    "from tensorflow.keras.layers import Dense, LSTM, Embedding, Conv1D\n",
    "from tensorflow.keras.layers import MaxPool1D, Flatten, Dropout"
   ]
  },
  {
   "cell_type": "code",
   "execution_count": 24,
   "id": "93a166a7",
   "metadata": {},
   "outputs": [],
   "source": [
    "es = tf.keras.callbacks.EarlyStopping(monitor='val_accuracy',\n",
    "                                      patience= 5, restore_best_weights= True)\n"
   ]
  },
  {
   "cell_type": "markdown",
   "id": "dcba8981",
   "metadata": {},
   "source": [
    "#### ANN"
   ]
  },
  {
   "cell_type": "code",
   "execution_count": 25,
   "id": "8beb4e38",
   "metadata": {},
   "outputs": [],
   "source": [
    "chkpt1 = tf.keras.callbacks.ModelCheckpoint(\n",
    "    'weights/ANN_weights', monitor='val_accuracy', verbose=0, save_best_only=True,\n",
    "    save_weights_only=True\n",
    ")"
   ]
  },
  {
   "cell_type": "code",
   "execution_count": 26,
   "id": "5ea1e4c8",
   "metadata": {},
   "outputs": [
    {
     "name": "stdout",
     "output_type": "stream",
     "text": [
      "Model: \"sequential\"\n",
      "_________________________________________________________________\n",
      "Layer (type)                 Output Shape              Param #   \n",
      "=================================================================\n",
      "embedding (Embedding)        (None, 335, 50)           53800     \n",
      "_________________________________________________________________\n",
      "flatten (Flatten)            (None, 16750)             0         \n",
      "_________________________________________________________________\n",
      "dense (Dense)                (None, 12)                201012    \n",
      "_________________________________________________________________\n",
      "dense_1 (Dense)              (None, 8)                 104       \n",
      "_________________________________________________________________\n",
      "dense_2 (Dense)              (None, 3)                 27        \n",
      "=================================================================\n",
      "Total params: 254,943\n",
      "Trainable params: 254,943\n",
      "Non-trainable params: 0\n",
      "_________________________________________________________________\n"
     ]
    }
   ],
   "source": [
    "model_ANN = Sequential()\n",
    "model_ANN.add(Embedding(VOCAB_SIZE+1, EMB_DIM, input_length = X_train_padded.shape[1]))\n",
    "model_ANN.add(Flatten())\n",
    "model_ANN.add(Dense(12, activation='relu'))\n",
    "model_ANN.add(Dense(8, activation='relu'))\n",
    "model_ANN.add(Dense(3, activation='softmax'))\n",
    "\n",
    "model_ANN.compile(loss='categorical_crossentropy', optimizer='adam', metrics=['accuracy'])\n",
    "model_ANN.summary()"
   ]
  },
  {
   "cell_type": "code",
   "execution_count": 27,
   "id": "a95dd3a7",
   "metadata": {
    "scrolled": true
   },
   "outputs": [
    {
     "name": "stdout",
     "output_type": "stream",
     "text": [
      "Epoch 1/100\n"
     ]
    },
    {
     "name": "stderr",
     "output_type": "stream",
     "text": [
      "C:\\Users\\moein\\AppData\\Roaming\\Python\\Python37\\site-packages\\tensorflow\\python\\data\\ops\\dataset_ops.py:3704: UserWarning: Even though the `tf.config.experimental_run_functions_eagerly` option is set, this option does not apply to tf.data functions. To force eager execution of tf.data functions, please use `tf.data.experimental.enable.debug_mode()`.\n",
      "  \"Even though the `tf.config.experimental_run_functions_eagerly` \"\n"
     ]
    },
    {
     "name": "stdout",
     "output_type": "stream",
     "text": [
      "70/70 [==============================] - 2s 22ms/step - loss: 1.0142 - accuracy: 0.5141 - val_loss: 0.9553 - val_accuracy: 0.5193\n",
      "Epoch 2/100\n",
      "70/70 [==============================] - 2s 23ms/step - loss: 0.7718 - accuracy: 0.5396 - val_loss: 0.6409 - val_accuracy: 0.5831\n",
      "Epoch 3/100\n",
      "70/70 [==============================] - 2s 24ms/step - loss: 0.5006 - accuracy: 0.8200 - val_loss: 0.4494 - val_accuracy: 0.9080\n",
      "Epoch 4/100\n",
      "70/70 [==============================] - 2s 24ms/step - loss: 0.3112 - accuracy: 0.9400 - val_loss: 0.3162 - val_accuracy: 0.9101\n",
      "Epoch 5/100\n",
      "70/70 [==============================] - 2s 25ms/step - loss: 0.2016 - accuracy: 0.9852 - val_loss: 0.2485 - val_accuracy: 0.9478\n",
      "Epoch 6/100\n",
      "70/70 [==============================] - 2s 26ms/step - loss: 0.1334 - accuracy: 0.9919 - val_loss: 0.2089 - val_accuracy: 0.9467\n",
      "Epoch 7/100\n",
      "70/70 [==============================] - 2s 25ms/step - loss: 0.0749 - accuracy: 0.9978 - val_loss: 0.1855 - val_accuracy: 0.9436\n",
      "Epoch 8/100\n",
      "70/70 [==============================] - 2s 24ms/step - loss: 0.0350 - accuracy: 0.9982 - val_loss: 0.1700 - val_accuracy: 0.9519\n",
      "Epoch 9/100\n",
      "70/70 [==============================] - 2s 25ms/step - loss: 0.0182 - accuracy: 0.9991 - val_loss: 0.1832 - val_accuracy: 0.9488\n",
      "Epoch 10/100\n",
      "70/70 [==============================] - 2s 25ms/step - loss: 0.0107 - accuracy: 0.9991 - val_loss: 0.1857 - val_accuracy: 0.9478y: 0.\n",
      "Epoch 11/100\n",
      "70/70 [==============================] - 2s 25ms/step - loss: 0.0080 - accuracy: 0.9996 - val_loss: 0.1909 - val_accuracy: 0.9467\n",
      "Epoch 12/100\n",
      "70/70 [==============================] - 2s 24ms/step - loss: 0.0062 - accuracy: 0.9996 - val_loss: 0.1949 - val_accuracy: 0.9457\n",
      "Epoch 13/100\n",
      "70/70 [==============================] - 2s 24ms/step - loss: 0.0060 - accuracy: 0.9996 - val_loss: 0.2503 - val_accuracy: 0.9404\n",
      "Took 23.189 seconds to train\n"
     ]
    }
   ],
   "source": [
    "import time\n",
    "import numpy as np\n",
    "\n",
    "eps = 100\n",
    "start = time.time()\n",
    "history1 = model_ANN.fit(X_train_padded, y_train, validation_data = (X_test_padded, y_test),\n",
    "          epochs = eps, batch_size = 32, shuffle = True, callbacks = [es, chkpt1])\n",
    "\n",
    "end = time.time()\n",
    "print('Took {:.3f} seconds to train'.format(end-start))"
   ]
  },
  {
   "cell_type": "code",
   "execution_count": 28,
   "id": "cad8cb26",
   "metadata": {},
   "outputs": [
    {
     "data": {
      "text/plain": [
       "<tensorflow.python.training.tracking.util.CheckpointLoadStatus at 0x27da44534c8>"
      ]
     },
     "execution_count": 28,
     "metadata": {},
     "output_type": "execute_result"
    }
   ],
   "source": [
    "model_ANN.load_weights('weights/ANN_weights')"
   ]
  },
  {
   "cell_type": "code",
   "execution_count": 29,
   "id": "c2fa91dd",
   "metadata": {},
   "outputs": [
    {
     "data": {
      "image/png": "[encoded data removed]",
      "text/plain": [
       "<Figure size 288x288 with 1 Axes>"
      ]
     },
     "metadata": {
      "needs_background": "light"
     },
     "output_type": "display_data"
    },
    {
     "name": "stdout",
     "output_type": "stream",
     "text": [
      "test F1 score: 0.946\n"
     ]
    }
   ],
   "source": [
    "eval_NN_model(model_ANN, X_test_padded, y_test)"
   ]
  },
  {
   "cell_type": "markdown",
   "id": "0ea97a86",
   "metadata": {},
   "source": [
    "#### RNN"
   ]
  },
  {
   "cell_type": "code",
   "execution_count": 30,
   "id": "3c67e965",
   "metadata": {},
   "outputs": [],
   "source": [
    "chkpt2 = tf.keras.callbacks.ModelCheckpoint(\n",
    "    'weights/RNN_weights', monitor='val_accuracy', verbose=0, save_best_only=True,\n",
    "    save_weights_only=True\n",
    ")"
   ]
  },
  {
   "cell_type": "code",
   "execution_count": 31,
   "id": "72d9cf8b",
   "metadata": {},
   "outputs": [
    {
     "name": "stdout",
     "output_type": "stream",
     "text": [
      "Model: \"sequential_1\"\n",
      "_________________________________________________________________\n",
      "Layer (type)                 Output Shape              Param #   \n",
      "=================================================================\n",
      "embedding_1 (Embedding)      (None, 335, 50)           53800     \n",
      "_________________________________________________________________\n",
      "lstm (LSTM)                  (None, 335, 50)           20200     \n",
      "_________________________________________________________________\n",
      "lstm_1 (LSTM)                (None, 50)                20200     \n",
      "_________________________________________________________________\n",
      "dense_3 (Dense)              (None, 3)                 153       \n",
      "=================================================================\n",
      "Total params: 94,353\n",
      "Trainable params: 94,353\n",
      "Non-trainable params: 0\n",
      "_________________________________________________________________\n"
     ]
    }
   ],
   "source": [
    "LSTM_UNITS = 50\n",
    "\n",
    "model_RNN = Sequential()\n",
    "model_RNN.add(Embedding(VOCAB_SIZE+1, EMB_DIM, input_length = X_train_padded.shape[1]))\n",
    "model_RNN.add(LSTM(units = LSTM_UNITS, return_sequences = True))\n",
    "model_RNN.add(LSTM(units = LSTM_UNITS))\n",
    "model_RNN.add(Dense(CLASS_NUM, activation = 'softmax'))\n",
    "\n",
    "model_RNN.compile(loss = 'categorical_crossentropy', \n",
    "                  optimizer = 'adam', metrics = ['accuracy'])\n",
    "model_RNN.summary()"
   ]
  },
  {
   "cell_type": "code",
   "execution_count": 32,
   "id": "e996e125",
   "metadata": {
    "scrolled": true
   },
   "outputs": [
    {
     "name": "stdout",
     "output_type": "stream",
     "text": [
      "Epoch 1/100\n"
     ]
    },
    {
     "name": "stderr",
     "output_type": "stream",
     "text": [
      "C:\\Users\\moein\\AppData\\Roaming\\Python\\Python37\\site-packages\\tensorflow\\python\\data\\ops\\dataset_ops.py:3704: UserWarning: Even though the `tf.config.experimental_run_functions_eagerly` option is set, this option does not apply to tf.data functions. To force eager execution of tf.data functions, please use `tf.data.experimental.enable.debug_mode()`.\n",
      "  \"Even though the `tf.config.experimental_run_functions_eagerly` \"\n"
     ]
    },
    {
     "name": "stdout",
     "output_type": "stream",
     "text": [
      "70/70 [==============================] - 5s 51ms/step - loss: 0.9953 - accuracy: 0.5361 - val_loss: 0.8750 - val_accuracy: 0.5946\n",
      "Epoch 2/100\n",
      "70/70 [==============================] - 3s 47ms/step - loss: 0.6921 - accuracy: 0.6982 - val_loss: 0.6666 - val_accuracy: 0.6897\n",
      "Epoch 3/100\n",
      "70/70 [==============================] - 3s 47ms/step - loss: 0.5190 - accuracy: 0.7559 - val_loss: 0.6387 - val_accuracy: 0.7137\n",
      "Epoch 4/100\n",
      "70/70 [==============================] - 3s 47ms/step - loss: 0.4304 - accuracy: 0.8088 - val_loss: 0.5785 - val_accuracy: 0.7680\n",
      "Epoch 5/100\n",
      "70/70 [==============================] - 3s 46ms/step - loss: 0.3072 - accuracy: 0.8867 - val_loss: 0.5872 - val_accuracy: 0.7618\n",
      "Epoch 6/100\n",
      "70/70 [==============================] - 3s 46ms/step - loss: 0.2385 - accuracy: 0.9163 - val_loss: 0.5426 - val_accuracy: 0.8161\n",
      "Epoch 7/100\n",
      "70/70 [==============================] - 3s 47ms/step - loss: 0.1484 - accuracy: 0.9534 - val_loss: 0.5260 - val_accuracy: 0.8370\n",
      "Epoch 8/100\n",
      "70/70 [==============================] - 3s 47ms/step - loss: 0.0973 - accuracy: 0.9709 - val_loss: 0.5411 - val_accuracy: 0.8318\n",
      "Epoch 9/100\n",
      "70/70 [==============================] - 3s 46ms/step - loss: 0.0785 - accuracy: 0.9758 - val_loss: 0.6580 - val_accuracy: 0.8245\n",
      "Epoch 10/100\n",
      "70/70 [==============================] - 3s 47ms/step - loss: 0.0654 - accuracy: 0.9821 - val_loss: 0.6207 - val_accuracy: 0.8359\n",
      "Epoch 11/100\n",
      "70/70 [==============================] - 3s 48ms/step - loss: 0.0513 - accuracy: 0.9861 - val_loss: 0.7321 - val_accuracy: 0.8265\n",
      "Epoch 12/100\n",
      "70/70 [==============================] - 3s 46ms/step - loss: 0.0516 - accuracy: 0.9870 - val_loss: 0.7357 - val_accuracy: 0.8328\n",
      "Took 40.671 seconds to train\n"
     ]
    }
   ],
   "source": [
    "start = time.time()\n",
    "history2 = model_RNN.fit(X_train_padded, y_train, validation_data = (X_test_padded, y_test),\n",
    "          epochs = eps, batch_size = 32, shuffle = True, callbacks = [es, chkpt2])\n",
    "end = time.time()\n",
    "print('Took {:.3f} seconds to train'.format(end-start))"
   ]
  },
  {
   "cell_type": "code",
   "execution_count": 33,
   "id": "6636f181",
   "metadata": {},
   "outputs": [
    {
     "data": {
      "text/plain": [
       "<tensorflow.python.training.tracking.util.CheckpointLoadStatus at 0x27d9e4e48c8>"
      ]
     },
     "execution_count": 33,
     "metadata": {},
     "output_type": "execute_result"
    }
   ],
   "source": [
    "model_RNN.load_weights('weights/RNN_weights')"
   ]
  },
  {
   "cell_type": "code",
   "execution_count": 34,
   "id": "8c638f95",
   "metadata": {},
   "outputs": [
    {
     "data": {
      "image/png": "[encoded data removed]",
      "text/plain": [
       "<Figure size 288x288 with 1 Axes>"
      ]
     },
     "metadata": {
      "needs_background": "light"
     },
     "output_type": "display_data"
    },
    {
     "name": "stdout",
     "output_type": "stream",
     "text": [
      "test F1 score: 0.833\n"
     ]
    }
   ],
   "source": [
    "eval_NN_model(model_RNN, X_test_padded, y_test)"
   ]
  },
  {
   "cell_type": "markdown",
   "id": "5abe9b5a",
   "metadata": {},
   "source": [
    "#### CNN"
   ]
  },
  {
   "cell_type": "code",
   "execution_count": 35,
   "id": "c8d2d0b7",
   "metadata": {},
   "outputs": [],
   "source": [
    "chkpt3 = tf.keras.callbacks.ModelCheckpoint(\n",
    "    'weights/CNN_weights', monitor='val_accuracy', verbose=0, save_best_only=True,\n",
    "    save_weights_only=True\n",
    ")"
   ]
  },
  {
   "cell_type": "code",
   "execution_count": 36,
   "id": "25475425",
   "metadata": {},
   "outputs": [
    {
     "name": "stdout",
     "output_type": "stream",
     "text": [
      "Model: \"sequential_2\"\n",
      "_________________________________________________________________\n",
      "Layer (type)                 Output Shape              Param #   \n",
      "=================================================================\n",
      "embedding_2 (Embedding)      (None, 335, 50)           53800     \n",
      "_________________________________________________________________\n",
      "conv1d (Conv1D)              (None, 333, 100)          15100     \n",
      "_________________________________________________________________\n",
      "max_pooling1d (MaxPooling1D) (None, 166, 100)          0         \n",
      "_________________________________________________________________\n",
      "flatten_1 (Flatten)          (None, 16600)             0         \n",
      "_________________________________________________________________\n",
      "dropout (Dropout)            (None, 16600)             0         \n",
      "_________________________________________________________________\n",
      "dense_4 (Dense)              (None, 3)                 49803     \n",
      "=================================================================\n",
      "Total params: 118,703\n",
      "Trainable params: 118,703\n",
      "Non-trainable params: 0\n",
      "_________________________________________________________________\n"
     ]
    }
   ],
   "source": [
    "model_CNN = Sequential()\n",
    "model_CNN.add(Embedding(VOCAB_SIZE+1, EMB_DIM, input_length = X_train_padded.shape[1]))\n",
    "model_CNN.add(Conv1D(filters = 100, kernel_size = 3, activation='relu'))\n",
    "model_CNN.add(MaxPool1D(pool_size = 2, strides=2))\n",
    "model_CNN.add(Flatten())\n",
    "model_CNN.add(Dropout(0.5))\n",
    "model_CNN.add(Dense(CLASS_NUM, activation= 'softmax'))\n",
    "\n",
    "model_CNN.compile(loss = 'categorical_crossentropy', \n",
    "                  optimizer = 'adam', metrics = ['accuracy'])\n",
    "model_CNN.summary()"
   ]
  },
  {
   "cell_type": "code",
   "execution_count": 37,
   "id": "4929c5f5",
   "metadata": {
    "scrolled": true
   },
   "outputs": [
    {
     "name": "stdout",
     "output_type": "stream",
     "text": [
      "Epoch 1/100\n"
     ]
    },
    {
     "name": "stderr",
     "output_type": "stream",
     "text": [
      "C:\\Users\\moein\\AppData\\Roaming\\Python\\Python37\\site-packages\\tensorflow\\python\\data\\ops\\dataset_ops.py:3704: UserWarning: Even though the `tf.config.experimental_run_functions_eagerly` option is set, this option does not apply to tf.data functions. To force eager execution of tf.data functions, please use `tf.data.experimental.enable.debug_mode()`.\n",
      "  \"Even though the `tf.config.experimental_run_functions_eagerly` \"\n"
     ]
    },
    {
     "name": "stdout",
     "output_type": "stream",
     "text": [
      "70/70 [==============================] - 3s 26ms/step - loss: 0.9939 - accuracy: 0.5146 - val_loss: 0.8508 - val_accuracy: 0.5789\n",
      "Epoch 2/100\n",
      "70/70 [==============================] - 2s 23ms/step - loss: 0.4520 - accuracy: 0.8379 - val_loss: 0.2416 - val_accuracy: 0.9310\n",
      "Epoch 3/100\n",
      "70/70 [==============================] - 2s 28ms/step - loss: 0.1252 - accuracy: 0.9606 - val_loss: 0.1781 - val_accuracy: 0.9415\n",
      "Epoch 4/100\n",
      "70/70 [==============================] - 2s 29ms/step - loss: 0.0704 - accuracy: 0.9785 - val_loss: 0.1671 - val_accuracy: 0.9415\n",
      "Epoch 5/100\n",
      "70/70 [==============================] - 2s 31ms/step - loss: 0.0386 - accuracy: 0.9919 - val_loss: 0.1669 - val_accuracy: 0.9425\n",
      "Epoch 6/100\n",
      "70/70 [==============================] - 2s 27ms/step - loss: 0.0227 - accuracy: 0.9969 - val_loss: 0.1685 - val_accuracy: 0.9425\n",
      "Epoch 7/100\n",
      "70/70 [==============================] - 2s 26ms/step - loss: 0.0152 - accuracy: 0.9982 - val_loss: 0.1727 - val_accuracy: 0.9436\n",
      "Epoch 8/100\n",
      "70/70 [==============================] - 2s 28ms/step - loss: 0.0110 - accuracy: 0.9987 - val_loss: 0.1765 - val_accuracy: 0.9436\n",
      "Epoch 9/100\n",
      "70/70 [==============================] - 2s 30ms/step - loss: 0.0077 - accuracy: 0.9996 - val_loss: 0.1872 - val_accuracy: 0.9436\n",
      "Epoch 10/100\n",
      "70/70 [==============================] - 2s 28ms/step - loss: 0.0075 - accuracy: 0.9991 - val_loss: 0.1968 - val_accuracy: 0.9425\n",
      "Epoch 11/100\n",
      "70/70 [==============================] - 2s 28ms/step - loss: 0.0058 - accuracy: 0.9991 - val_loss: 0.2105 - val_accuracy: 0.9383\n",
      "Epoch 12/100\n",
      "70/70 [==============================] - 2s 26ms/step - loss: 0.0057 - accuracy: 0.9991 - val_loss: 0.2077 - val_accuracy: 0.9457\n",
      "Epoch 13/100\n",
      "70/70 [==============================] - 2s 25ms/step - loss: 0.0032 - accuracy: 1.0000 - val_loss: 0.2047 - val_accuracy: 0.9457\n",
      "Epoch 14/100\n",
      "70/70 [==============================] - 2s 28ms/step - loss: 0.0031 - accuracy: 0.9996 - val_loss: 0.2081 - val_accuracy: 0.9446\n",
      "Epoch 15/100\n",
      "70/70 [==============================] - 2s 29ms/step - loss: 0.0046 - accuracy: 0.9991 - val_loss: 0.2143 - val_accuracy: 0.9415\n",
      "Epoch 16/100\n",
      "70/70 [==============================] - 2s 28ms/step - loss: 0.0027 - accuracy: 0.9996 - val_loss: 0.2246 - val_accuracy: 0.9394\n",
      "Epoch 17/100\n",
      "70/70 [==============================] - 2s 27ms/step - loss: 0.0027 - accuracy: 0.9991 - val_loss: 0.2183 - val_accuracy: 0.9415\n",
      "Took 33.999 seconds to train\n"
     ]
    }
   ],
   "source": [
    "start = time.time()\n",
    "history3 = model_CNN.fit(X_train_padded, y_train, validation_data = (X_test_padded, y_test),\n",
    "          epochs = eps, batch_size = 32, shuffle = True, callbacks = [es, chkpt3])\n",
    "end = time.time()\n",
    "print('Took {:.3f} seconds to train'.format(end-start, eps))"
   ]
  },
  {
   "cell_type": "code",
   "execution_count": 38,
   "id": "478ba2d0",
   "metadata": {},
   "outputs": [
    {
     "data": {
      "text/plain": [
       "<tensorflow.python.training.tracking.util.CheckpointLoadStatus at 0x27d9e7c7108>"
      ]
     },
     "execution_count": 38,
     "metadata": {},
     "output_type": "execute_result"
    }
   ],
   "source": [
    "model_CNN.load_weights('weights/CNN_weights')"
   ]
  },
  {
   "cell_type": "code",
   "execution_count": 39,
   "id": "e33ce7b1",
   "metadata": {},
   "outputs": [
    {
     "data": {
      "image/png": "[encoded data removed]",
      "text/plain": [
       "<Figure size 288x288 with 1 Axes>"
      ]
     },
     "metadata": {
      "needs_background": "light"
     },
     "output_type": "display_data"
    },
    {
     "name": "stdout",
     "output_type": "stream",
     "text": [
      "test F1 score: 0.941\n"
     ]
    }
   ],
   "source": [
    "eval_NN_model(model_CNN, X_test_padded, y_test)"
   ]
  },
  {
   "cell_type": "code",
   "execution_count": null,
   "id": "89f54f1e",
   "metadata": {},
   "outputs": [],
   "source": []
  }
 ],
 "metadata": {
  "kernelspec": {
   "display_name": "Python 3 (ipykernel)",
   "language": "python",
   "name": "python3"
  },
  "language_info": {
   "codemirror_mode": {
    "name": "ipython",
    "version": 3
   },
   "file_extension": ".py",
   "mimetype": "text/x-python",
   "name": "python",
   "nbconvert_exporter": "python",
   "pygments_lexer": "ipython3",
   "version": "3.7.9"
  }
 },
 "nbformat": 4,
 "nbformat_minor": 5
}
