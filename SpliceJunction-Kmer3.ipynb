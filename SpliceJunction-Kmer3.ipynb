{
 "cells": [
  {
   "cell_type": "markdown",
   "id": "c8ac8c82",
   "metadata": {},
   "source": [
    "Splice junctions are points on a DNA sequence at which `superfluous' DNA is removed during the process of protein creation in higher organisms. The problem posed in this dataset is to recognize, given a sequence of DNA, the boundaries between exons (the parts of the DNA sequence retained after splicing) and introns (the parts of the DNA sequence that are spliced out). This problem consists of two subtasks: recognizing exon/intron boundaries (referred to as EI sites), and recognizing intron/exon boundaries (IE sites). (In the biological community, IE borders are referred to a ``acceptors'' while EI borders are referred to as ``donors''.)"
   ]
  },
  {
   "cell_type": "markdown",
   "id": "57d67a01",
   "metadata": {},
   "source": [
    "Attribute Information:\n",
    "\n",
    "* 1. One of {n ei ie}, indicating the class.\n",
    "* 2. The instance name.\n",
    "* 3-62. The remaining 60 fields are the sequence, starting at position -30 and ending at position +30. Each of these fields is almost always filled by one of {a, g, t, c}. Other characters indicate ambiguity among the standard characters according to the following table:\n"
   ]
  },
  {
   "cell_type": "code",
   "execution_count": 1,
   "id": "59940d4e",
   "metadata": {},
   "outputs": [],
   "source": [
    "import pandas as pd \n",
    "import matplotlib.pyplot as plt\n",
    "import seaborn as sns\n",
    "from sklearn.metrics import f1_score\n",
    "from sklearn.feature_extraction.text import CountVectorizer\n",
    "from sklearn.model_selection import train_test_split\n",
    "from sklearn.metrics import confusion_matrix\n",
    "from mlxtend.plotting import plot_confusion_matrix\n",
    "from tensorflow.keras.utils import to_categorical\n",
    "import tensorflow as tf\n",
    "tf.config.run_functions_eagerly(True)\n",
    "import time"
   ]
  },
  {
   "cell_type": "code",
   "execution_count": 2,
   "id": "0c24ce30",
   "metadata": {},
   "outputs": [],
   "source": [
    "# size of our kmer words\n",
    "k_mer = 3\n",
    "# dimesnion space of our embedding layer\n",
    "EMB_DIM = 50"
   ]
  },
  {
   "cell_type": "markdown",
   "id": "0d242348",
   "metadata": {},
   "source": [
    "#### reading and exploring the data"
   ]
  },
  {
   "cell_type": "code",
   "execution_count": 3,
   "id": "10cd799e",
   "metadata": {},
   "outputs": [
    {
     "data": {
      "text/html": [
       "<div>\n",
       "<style scoped>\n",
       "    .dataframe tbody tr th:only-of-type {\n",
       "        vertical-align: middle;\n",
       "    }\n",
       "\n",
       "    .dataframe tbody tr th {\n",
       "        vertical-align: top;\n",
       "    }\n",
       "\n",
       "    .dataframe thead th {\n",
       "        text-align: right;\n",
       "    }\n",
       "</style>\n",
       "<table border=\"1\" class=\"dataframe\">\n",
       "  <thead>\n",
       "    <tr style=\"text-align: right;\">\n",
       "      <th></th>\n",
       "      <th>class</th>\n",
       "      <th>donor</th>\n",
       "      <th>sequence</th>\n",
       "    </tr>\n",
       "  </thead>\n",
       "  <tbody>\n",
       "    <tr>\n",
       "      <th>0</th>\n",
       "      <td>EI</td>\n",
       "      <td>ATRINS-DONOR-521</td>\n",
       "      <td>CCAGCTGCATCACAGGAGGCCAGCGAGCAGG...</td>\n",
       "    </tr>\n",
       "    <tr>\n",
       "      <th>1</th>\n",
       "      <td>EI</td>\n",
       "      <td>ATRINS-DONOR-905</td>\n",
       "      <td>AGACCCGCCGGGAGGCGGAGGACCTGCAGGG...</td>\n",
       "    </tr>\n",
       "    <tr>\n",
       "      <th>2</th>\n",
       "      <td>EI</td>\n",
       "      <td>BABAPOE-DONOR-30</td>\n",
       "      <td>GAGGTGAAGGACGTCCTTCCCCAGGAGCCGG...</td>\n",
       "    </tr>\n",
       "    <tr>\n",
       "      <th>3</th>\n",
       "      <td>EI</td>\n",
       "      <td>BABAPOE-DONOR-867</td>\n",
       "      <td>GGGCTGCGTTGCTGGTCACATTCCTGGCAGGT...</td>\n",
       "    </tr>\n",
       "    <tr>\n",
       "      <th>4</th>\n",
       "      <td>EI</td>\n",
       "      <td>BABAPOE-DONOR-2817</td>\n",
       "      <td>GCTCAGCCCCCAGGTCACCCAGGAACTGACGTG...</td>\n",
       "    </tr>\n",
       "  </tbody>\n",
       "</table>\n",
       "</div>"
      ],
      "text/plain": [
       "  class                   donor  \\\n",
       "0    EI        ATRINS-DONOR-521   \n",
       "1    EI        ATRINS-DONOR-905   \n",
       "2    EI        BABAPOE-DONOR-30   \n",
       "3    EI       BABAPOE-DONOR-867   \n",
       "4    EI      BABAPOE-DONOR-2817   \n",
       "\n",
       "                                            sequence  \n",
       "0                 CCAGCTGCATCACAGGAGGCCAGCGAGCAGG...  \n",
       "1                 AGACCCGCCGGGAGGCGGAGGACCTGCAGGG...  \n",
       "2                 GAGGTGAAGGACGTCCTTCCCCAGGAGCCGG...  \n",
       "3                GGGCTGCGTTGCTGGTCACATTCCTGGCAGGT...  \n",
       "4               GCTCAGCCCCCAGGTCACCCAGGAACTGACGTG...  "
      ]
     },
     "execution_count": 3,
     "metadata": {},
     "output_type": "execute_result"
    }
   ],
   "source": [
    "splice_data = pd.read_csv('splice.data', header=None, names = ['class', 'donor', 'sequence'])\n",
    "splice_data.head()"
   ]
  },
  {
   "cell_type": "code",
   "execution_count": 4,
   "id": "c2596fbe",
   "metadata": {},
   "outputs": [],
   "source": [
    "# we have 3 classes in this dataset\n",
    "CLASS_NUM = 3"
   ]
  },
  {
   "cell_type": "code",
   "execution_count": 5,
   "id": "92aa0dc1",
   "metadata": {},
   "outputs": [
    {
     "data": {
      "text/plain": [
       "3190"
      ]
     },
     "execution_count": 5,
     "metadata": {},
     "output_type": "execute_result"
    }
   ],
   "source": [
    "len(splice_data)"
   ]
  },
  {
   "cell_type": "code",
   "execution_count": 6,
   "id": "f77cb3e9",
   "metadata": {},
   "outputs": [
    {
     "data": {
      "text/html": [
       "<div>\n",
       "<style scoped>\n",
       "    .dataframe tbody tr th:only-of-type {\n",
       "        vertical-align: middle;\n",
       "    }\n",
       "\n",
       "    .dataframe tbody tr th {\n",
       "        vertical-align: top;\n",
       "    }\n",
       "\n",
       "    .dataframe thead th {\n",
       "        text-align: right;\n",
       "    }\n",
       "</style>\n",
       "<table border=\"1\" class=\"dataframe\">\n",
       "  <thead>\n",
       "    <tr style=\"text-align: right;\">\n",
       "      <th></th>\n",
       "      <th>class</th>\n",
       "      <th>donor</th>\n",
       "      <th>sequence</th>\n",
       "    </tr>\n",
       "  </thead>\n",
       "  <tbody>\n",
       "    <tr>\n",
       "      <th>0</th>\n",
       "      <td>EI</td>\n",
       "      <td>ATRINS-DONOR-521</td>\n",
       "      <td>CCAGCTGCATCACAGGAGGCCAGCGAGCAGG...</td>\n",
       "    </tr>\n",
       "    <tr>\n",
       "      <th>1</th>\n",
       "      <td>EI</td>\n",
       "      <td>ATRINS-DONOR-905</td>\n",
       "      <td>AGACCCGCCGGGAGGCGGAGGACCTGCAGGG...</td>\n",
       "    </tr>\n",
       "    <tr>\n",
       "      <th>2</th>\n",
       "      <td>EI</td>\n",
       "      <td>BABAPOE-DONOR-30</td>\n",
       "      <td>GAGGTGAAGGACGTCCTTCCCCAGGAGCCGG...</td>\n",
       "    </tr>\n",
       "    <tr>\n",
       "      <th>3</th>\n",
       "      <td>EI</td>\n",
       "      <td>BABAPOE-DONOR-867</td>\n",
       "      <td>GGGCTGCGTTGCTGGTCACATTCCTGGCAGGT...</td>\n",
       "    </tr>\n",
       "    <tr>\n",
       "      <th>4</th>\n",
       "      <td>EI</td>\n",
       "      <td>BABAPOE-DONOR-2817</td>\n",
       "      <td>GCTCAGCCCCCAGGTCACCCAGGAACTGACGTG...</td>\n",
       "    </tr>\n",
       "  </tbody>\n",
       "</table>\n",
       "</div>"
      ],
      "text/plain": [
       "  class                   donor  \\\n",
       "0    EI        ATRINS-DONOR-521   \n",
       "1    EI        ATRINS-DONOR-905   \n",
       "2    EI        BABAPOE-DONOR-30   \n",
       "3    EI       BABAPOE-DONOR-867   \n",
       "4    EI      BABAPOE-DONOR-2817   \n",
       "\n",
       "                                            sequence  \n",
       "0                 CCAGCTGCATCACAGGAGGCCAGCGAGCAGG...  \n",
       "1                 AGACCCGCCGGGAGGCGGAGGACCTGCAGGG...  \n",
       "2                 GAGGTGAAGGACGTCCTTCCCCAGGAGCCGG...  \n",
       "3                GGGCTGCGTTGCTGGTCACATTCCTGGCAGGT...  \n",
       "4               GCTCAGCCCCCAGGTCACCCAGGAACTGACGTG...  "
      ]
     },
     "execution_count": 6,
     "metadata": {},
     "output_type": "execute_result"
    }
   ],
   "source": [
    "splice_data['sequence'] = splice_data.apply(lambda x: str(x['sequence']), axis=1)\n",
    "splice_data.head()"
   ]
  },
  {
   "cell_type": "code",
   "execution_count": 7,
   "id": "2464342e",
   "metadata": {},
   "outputs": [
    {
     "data": {
      "text/plain": [
       "N     1655\n",
       "IE     768\n",
       "EI     767\n",
       "Name: class, dtype: int64"
      ]
     },
     "execution_count": 7,
     "metadata": {},
     "output_type": "execute_result"
    }
   ],
   "source": [
    "splice_data['class'].value_counts()"
   ]
  },
  {
   "cell_type": "code",
   "execution_count": 8,
   "id": "ae0aa416",
   "metadata": {},
   "outputs": [
    {
     "data": {
      "image/png": "[encoded data removed]",
      "text/plain": [
       "<Figure size 432x288 with 1 Axes>"
      ]
     },
     "metadata": {
      "needs_background": "light"
     },
     "output_type": "display_data"
    }
   ],
   "source": [
    "sns.countplot(x =splice_data['class'])\n",
    "plt.title(\"Class Dist in data\")\n",
    "plt.show()"
   ]
  },
  {
   "cell_type": "code",
   "execution_count": 9,
   "id": "b413ca3c",
   "metadata": {
    "scrolled": true
   },
   "outputs": [
    {
     "data": {
      "text/plain": [
       "['cca', 'cag', 'agc', 'gct', 'ctg']"
      ]
     },
     "execution_count": 9,
     "metadata": {},
     "output_type": "execute_result"
    }
   ],
   "source": [
    "def kmer_fun(seq, win_size):\n",
    "    kmer_list = []\n",
    "    for x in range(len(seq) - win_size + 1):\n",
    "        kmer_list.append(seq[x:x+win_size].lower())\n",
    "    return kmer_list\n",
    "\n",
    "#So let’s try it out with a simple sequence:\n",
    "mySeq = 'CCAGCTG'\n",
    "kmer_fun(mySeq, win_size= k_mer)"
   ]
  },
  {
   "cell_type": "code",
   "execution_count": 10,
   "id": "c268fa2d",
   "metadata": {},
   "outputs": [
    {
     "data": {
      "text/html": [
       "<div>\n",
       "<style scoped>\n",
       "    .dataframe tbody tr th:only-of-type {\n",
       "        vertical-align: middle;\n",
       "    }\n",
       "\n",
       "    .dataframe tbody tr th {\n",
       "        vertical-align: top;\n",
       "    }\n",
       "\n",
       "    .dataframe thead th {\n",
       "        text-align: right;\n",
       "    }\n",
       "</style>\n",
       "<table border=\"1\" class=\"dataframe\">\n",
       "  <thead>\n",
       "    <tr style=\"text-align: right;\">\n",
       "      <th></th>\n",
       "      <th>class</th>\n",
       "      <th>donor</th>\n",
       "      <th>sequence</th>\n",
       "    </tr>\n",
       "  </thead>\n",
       "  <tbody>\n",
       "    <tr>\n",
       "      <th>0</th>\n",
       "      <td>EI</td>\n",
       "      <td>ATRINS-DONOR-521</td>\n",
       "      <td>CCAGCTGCATCACAGGAGGCCAGCGAGCAGGTCTGTTCCAAGGGCC...</td>\n",
       "    </tr>\n",
       "    <tr>\n",
       "      <th>1</th>\n",
       "      <td>EI</td>\n",
       "      <td>ATRINS-DONOR-905</td>\n",
       "      <td>AGACCCGCCGGGAGGCGGAGGACCTGCAGGGTGAGCCCCACCGCCC...</td>\n",
       "    </tr>\n",
       "    <tr>\n",
       "      <th>2</th>\n",
       "      <td>EI</td>\n",
       "      <td>BABAPOE-DONOR-30</td>\n",
       "      <td>GAGGTGAAGGACGTCCTTCCCCAGGAGCCGGTGAGAAGCGCAGTCG...</td>\n",
       "    </tr>\n",
       "    <tr>\n",
       "      <th>3</th>\n",
       "      <td>EI</td>\n",
       "      <td>BABAPOE-DONOR-867</td>\n",
       "      <td>GGGCTGCGTTGCTGGTCACATTCCTGGCAGGTATGGGGCGGGGCTT...</td>\n",
       "    </tr>\n",
       "    <tr>\n",
       "      <th>4</th>\n",
       "      <td>EI</td>\n",
       "      <td>BABAPOE-DONOR-2817</td>\n",
       "      <td>GCTCAGCCCCCAGGTCACCCAGGAACTGACGTGAGTGTCCCCATCC...</td>\n",
       "    </tr>\n",
       "  </tbody>\n",
       "</table>\n",
       "</div>"
      ],
      "text/plain": [
       "  class                   donor  \\\n",
       "0    EI        ATRINS-DONOR-521   \n",
       "1    EI        ATRINS-DONOR-905   \n",
       "2    EI        BABAPOE-DONOR-30   \n",
       "3    EI       BABAPOE-DONOR-867   \n",
       "4    EI      BABAPOE-DONOR-2817   \n",
       "\n",
       "                                            sequence  \n",
       "0  CCAGCTGCATCACAGGAGGCCAGCGAGCAGGTCTGTTCCAAGGGCC...  \n",
       "1  AGACCCGCCGGGAGGCGGAGGACCTGCAGGGTGAGCCCCACCGCCC...  \n",
       "2  GAGGTGAAGGACGTCCTTCCCCAGGAGCCGGTGAGAAGCGCAGTCG...  \n",
       "3  GGGCTGCGTTGCTGGTCACATTCCTGGCAGGTATGGGGCGGGGCTT...  \n",
       "4  GCTCAGCCCCCAGGTCACCCAGGAACTGACGTGAGTGTCCCCATCC...  "
      ]
     },
     "execution_count": 10,
     "metadata": {},
     "output_type": "execute_result"
    }
   ],
   "source": [
    "splice_data['sequence'] = splice_data.apply(lambda x : x['sequence'].strip(), axis = 1)\n",
    "splice_data.head()"
   ]
  },
  {
   "cell_type": "code",
   "execution_count": 11,
   "id": "c795aaf2",
   "metadata": {},
   "outputs": [
    {
     "data": {
      "text/html": [
       "<div>\n",
       "<style scoped>\n",
       "    .dataframe tbody tr th:only-of-type {\n",
       "        vertical-align: middle;\n",
       "    }\n",
       "\n",
       "    .dataframe tbody tr th {\n",
       "        vertical-align: top;\n",
       "    }\n",
       "\n",
       "    .dataframe thead th {\n",
       "        text-align: right;\n",
       "    }\n",
       "</style>\n",
       "<table border=\"1\" class=\"dataframe\">\n",
       "  <thead>\n",
       "    <tr style=\"text-align: right;\">\n",
       "      <th></th>\n",
       "      <th>class</th>\n",
       "      <th>donor</th>\n",
       "      <th>sequence</th>\n",
       "      <th>3-mer</th>\n",
       "    </tr>\n",
       "  </thead>\n",
       "  <tbody>\n",
       "    <tr>\n",
       "      <th>0</th>\n",
       "      <td>EI</td>\n",
       "      <td>ATRINS-DONOR-521</td>\n",
       "      <td>CCAGCTGCATCACAGGAGGCCAGCGAGCAGGTCTGTTCCAAGGGCC...</td>\n",
       "      <td>[cca, cag, agc, gct, ctg, tgc, gca, cat, atc, ...</td>\n",
       "    </tr>\n",
       "    <tr>\n",
       "      <th>1</th>\n",
       "      <td>EI</td>\n",
       "      <td>ATRINS-DONOR-905</td>\n",
       "      <td>AGACCCGCCGGGAGGCGGAGGACCTGCAGGGTGAGCCCCACCGCCC...</td>\n",
       "      <td>[aga, gac, acc, ccc, ccg, cgc, gcc, ccg, cgg, ...</td>\n",
       "    </tr>\n",
       "    <tr>\n",
       "      <th>2</th>\n",
       "      <td>EI</td>\n",
       "      <td>BABAPOE-DONOR-30</td>\n",
       "      <td>GAGGTGAAGGACGTCCTTCCCCAGGAGCCGGTGAGAAGCGCAGTCG...</td>\n",
       "      <td>[gag, agg, ggt, gtg, tga, gaa, aag, agg, gga, ...</td>\n",
       "    </tr>\n",
       "    <tr>\n",
       "      <th>3</th>\n",
       "      <td>EI</td>\n",
       "      <td>BABAPOE-DONOR-867</td>\n",
       "      <td>GGGCTGCGTTGCTGGTCACATTCCTGGCAGGTATGGGGCGGGGCTT...</td>\n",
       "      <td>[ggg, ggc, gct, ctg, tgc, gcg, cgt, gtt, ttg, ...</td>\n",
       "    </tr>\n",
       "    <tr>\n",
       "      <th>4</th>\n",
       "      <td>EI</td>\n",
       "      <td>BABAPOE-DONOR-2817</td>\n",
       "      <td>GCTCAGCCCCCAGGTCACCCAGGAACTGACGTGAGTGTCCCCATCC...</td>\n",
       "      <td>[gct, ctc, tca, cag, agc, gcc, ccc, ccc, ccc, ...</td>\n",
       "    </tr>\n",
       "  </tbody>\n",
       "</table>\n",
       "</div>"
      ],
      "text/plain": [
       "  class                   donor  \\\n",
       "0    EI        ATRINS-DONOR-521   \n",
       "1    EI        ATRINS-DONOR-905   \n",
       "2    EI        BABAPOE-DONOR-30   \n",
       "3    EI       BABAPOE-DONOR-867   \n",
       "4    EI      BABAPOE-DONOR-2817   \n",
       "\n",
       "                                            sequence  \\\n",
       "0  CCAGCTGCATCACAGGAGGCCAGCGAGCAGGTCTGTTCCAAGGGCC...   \n",
       "1  AGACCCGCCGGGAGGCGGAGGACCTGCAGGGTGAGCCCCACCGCCC...   \n",
       "2  GAGGTGAAGGACGTCCTTCCCCAGGAGCCGGTGAGAAGCGCAGTCG...   \n",
       "3  GGGCTGCGTTGCTGGTCACATTCCTGGCAGGTATGGGGCGGGGCTT...   \n",
       "4  GCTCAGCCCCCAGGTCACCCAGGAACTGACGTGAGTGTCCCCATCC...   \n",
       "\n",
       "                                               3-mer  \n",
       "0  [cca, cag, agc, gct, ctg, tgc, gca, cat, atc, ...  \n",
       "1  [aga, gac, acc, ccc, ccg, cgc, gcc, ccg, cgg, ...  \n",
       "2  [gag, agg, ggt, gtg, tga, gaa, aag, agg, gga, ...  \n",
       "3  [ggg, ggc, gct, ctg, tgc, gcg, cgt, gtt, ttg, ...  \n",
       "4  [gct, ctc, tca, cag, agc, gcc, ccc, ccc, ccc, ...  "
      ]
     },
     "execution_count": 11,
     "metadata": {},
     "output_type": "execute_result"
    }
   ],
   "source": [
    "splice_data[str(k_mer)+'-mer'] = splice_data.apply(lambda x : kmer_fun(x['sequence']\n",
    "                                                    , win_size= k_mer), axis = 1)\n",
    "splice_data.head()"
   ]
  },
  {
   "cell_type": "code",
   "execution_count": 12,
   "id": "2282a335",
   "metadata": {},
   "outputs": [
    {
     "data": {
      "text/html": [
       "<div>\n",
       "<style scoped>\n",
       "    .dataframe tbody tr th:only-of-type {\n",
       "        vertical-align: middle;\n",
       "    }\n",
       "\n",
       "    .dataframe tbody tr th {\n",
       "        vertical-align: top;\n",
       "    }\n",
       "\n",
       "    .dataframe thead th {\n",
       "        text-align: right;\n",
       "    }\n",
       "</style>\n",
       "<table border=\"1\" class=\"dataframe\">\n",
       "  <thead>\n",
       "    <tr style=\"text-align: right;\">\n",
       "      <th></th>\n",
       "      <th>class</th>\n",
       "      <th>donor</th>\n",
       "      <th>sequence</th>\n",
       "      <th>3-mer</th>\n",
       "    </tr>\n",
       "  </thead>\n",
       "  <tbody>\n",
       "    <tr>\n",
       "      <th>0</th>\n",
       "      <td>0</td>\n",
       "      <td>ATRINS-DONOR-521</td>\n",
       "      <td>CCAGCTGCATCACAGGAGGCCAGCGAGCAGGTCTGTTCCAAGGGCC...</td>\n",
       "      <td>[cca, cag, agc, gct, ctg, tgc, gca, cat, atc, ...</td>\n",
       "    </tr>\n",
       "    <tr>\n",
       "      <th>1</th>\n",
       "      <td>0</td>\n",
       "      <td>ATRINS-DONOR-905</td>\n",
       "      <td>AGACCCGCCGGGAGGCGGAGGACCTGCAGGGTGAGCCCCACCGCCC...</td>\n",
       "      <td>[aga, gac, acc, ccc, ccg, cgc, gcc, ccg, cgg, ...</td>\n",
       "    </tr>\n",
       "    <tr>\n",
       "      <th>2</th>\n",
       "      <td>0</td>\n",
       "      <td>BABAPOE-DONOR-30</td>\n",
       "      <td>GAGGTGAAGGACGTCCTTCCCCAGGAGCCGGTGAGAAGCGCAGTCG...</td>\n",
       "      <td>[gag, agg, ggt, gtg, tga, gaa, aag, agg, gga, ...</td>\n",
       "    </tr>\n",
       "    <tr>\n",
       "      <th>3</th>\n",
       "      <td>0</td>\n",
       "      <td>BABAPOE-DONOR-867</td>\n",
       "      <td>GGGCTGCGTTGCTGGTCACATTCCTGGCAGGTATGGGGCGGGGCTT...</td>\n",
       "      <td>[ggg, ggc, gct, ctg, tgc, gcg, cgt, gtt, ttg, ...</td>\n",
       "    </tr>\n",
       "    <tr>\n",
       "      <th>4</th>\n",
       "      <td>0</td>\n",
       "      <td>BABAPOE-DONOR-2817</td>\n",
       "      <td>GCTCAGCCCCCAGGTCACCCAGGAACTGACGTGAGTGTCCCCATCC...</td>\n",
       "      <td>[gct, ctc, tca, cag, agc, gcc, ccc, ccc, ccc, ...</td>\n",
       "    </tr>\n",
       "  </tbody>\n",
       "</table>\n",
       "</div>"
      ],
      "text/plain": [
       "   class                   donor  \\\n",
       "0      0        ATRINS-DONOR-521   \n",
       "1      0        ATRINS-DONOR-905   \n",
       "2      0        BABAPOE-DONOR-30   \n",
       "3      0       BABAPOE-DONOR-867   \n",
       "4      0      BABAPOE-DONOR-2817   \n",
       "\n",
       "                                            sequence  \\\n",
       "0  CCAGCTGCATCACAGGAGGCCAGCGAGCAGGTCTGTTCCAAGGGCC...   \n",
       "1  AGACCCGCCGGGAGGCGGAGGACCTGCAGGGTGAGCCCCACCGCCC...   \n",
       "2  GAGGTGAAGGACGTCCTTCCCCAGGAGCCGGTGAGAAGCGCAGTCG...   \n",
       "3  GGGCTGCGTTGCTGGTCACATTCCTGGCAGGTATGGGGCGGGGCTT...   \n",
       "4  GCTCAGCCCCCAGGTCACCCAGGAACTGACGTGAGTGTCCCCATCC...   \n",
       "\n",
       "                                               3-mer  \n",
       "0  [cca, cag, agc, gct, ctg, tgc, gca, cat, atc, ...  \n",
       "1  [aga, gac, acc, ccc, ccg, cgc, gcc, ccg, cgg, ...  \n",
       "2  [gag, agg, ggt, gtg, tga, gaa, aag, agg, gga, ...  \n",
       "3  [ggg, ggc, gct, ctg, tgc, gcg, cgt, gtt, ttg, ...  \n",
       "4  [gct, ctc, tca, cag, agc, gcc, ccc, ccc, ccc, ...  "
      ]
     },
     "execution_count": 12,
     "metadata": {},
     "output_type": "execute_result"
    }
   ],
   "source": [
    "from sklearn import preprocessing\n",
    "le = preprocessing.LabelEncoder()\n",
    "splice_data['class'] = le.fit_transform(splice_data['class'])\n",
    "splice_data.head()"
   ]
  },
  {
   "cell_type": "code",
   "execution_count": 13,
   "id": "5b44687c",
   "metadata": {},
   "outputs": [
    {
     "name": "stdout",
     "output_type": "stream",
     "text": [
      "Sample 1:  cca cag agc gct ctg tgc gca cat atc tca cac aca cag agg gga gag agg ggc gcc cca cag agc gcg cga gag agc gca cag agg ggt gtc tct ctg tgt gtt ttc tcc cca caa aag agg ggg ggc gcc cct ctt ttc tcg cga gag agc gcc cca cag agt gtc tct ctg\n"
     ]
    }
   ],
   "source": [
    "# making sentences based on the k-mers\n",
    "dna_texts = list(splice_data[str(k_mer)+'-mer'])\n",
    "for item in range(len(dna_texts)):\n",
    "    dna_texts[item] = ' '.join(dna_texts[item])\n",
    "\n",
    "print('Sample 1: ', dna_texts[0])"
   ]
  },
  {
   "cell_type": "code",
   "execution_count": 14,
   "id": "528f9765",
   "metadata": {},
   "outputs": [],
   "source": [
    "# get the labels\n",
    "y = splice_data['class'].values "
   ]
  },
  {
   "cell_type": "code",
   "execution_count": 15,
   "id": "45e9a6a3",
   "metadata": {},
   "outputs": [],
   "source": [
    "# seperating the texts to train and test\n",
    "X_train, X_test, y_train, y_test = train_test_split(dna_texts,\n",
    "                                                    y,\n",
    "                                                   random_state=42,\n",
    "                                                   test_size=0.3,\n",
    "                                                   stratify=y)\n"
   ]
  },
  {
   "cell_type": "code",
   "execution_count": 16,
   "id": "ce9ff1ce",
   "metadata": {},
   "outputs": [
    {
     "data": {
      "text/plain": [
       "(2233, 957)"
      ]
     },
     "execution_count": 16,
     "metadata": {},
     "output_type": "execute_result"
    }
   ],
   "source": [
    "len(X_train), len(X_test)"
   ]
  },
  {
   "cell_type": "code",
   "execution_count": 17,
   "id": "1219a7e0",
   "metadata": {},
   "outputs": [],
   "source": [
    "# converting the labels to categorical one hot encoded format\n",
    "y_train = to_categorical(y_train)\n",
    "y_test = to_categorical(y_test)"
   ]
  },
  {
   "cell_type": "code",
   "execution_count": 18,
   "id": "2ddc3c08",
   "metadata": {},
   "outputs": [
    {
     "data": {
      "text/plain": [
       "((2233, 3), (957, 3))"
      ]
     },
     "execution_count": 18,
     "metadata": {},
     "output_type": "execute_result"
    }
   ],
   "source": [
    "y_train.shape, y_test.shape"
   ]
  },
  {
   "cell_type": "code",
   "execution_count": 19,
   "id": "0d64783f",
   "metadata": {},
   "outputs": [
    {
     "name": "stdout",
     "output_type": "stream",
     "text": [
      "Found 88 unique tokens.\n"
     ]
    }
   ],
   "source": [
    "from tensorflow.keras.preprocessing.text import Tokenizer\n",
    "from tensorflow.keras.preprocessing.sequence import pad_sequences\n",
    "\n",
    "tokenizer = Tokenizer()\n",
    "tokenizer.fit_on_texts(X_train)\n",
    "word_index = tokenizer.word_index\n",
    "print('Found %s unique tokens.' % len(word_index))\n",
    "VOCAB_SIZE = len(word_index)"
   ]
  },
  {
   "cell_type": "code",
   "execution_count": 20,
   "id": "b4a56a04",
   "metadata": {},
   "outputs": [
    {
     "name": "stdout",
     "output_type": "stream",
     "text": [
      "Sample 1 sequence:  [18, 33, 39, 40, 36, 6, 7, 18, 33, 32, 61, 53, 13, 37, 35, 38, 21, 27, 19, 22, 23, 29, 39, 46, 12, 1, 24, 33, 3, 41, 45, 29, 3, 16, 9, 16, 37, 35, 3, 41, 17, 6, 13, 37, 35, 32, 31, 54, 62, 9, 5, 7, 30, 55, 56, 35, 3, 41]\n",
      "\n",
      "Shape of train data tensor: (2233, 231)\n"
     ]
    }
   ],
   "source": [
    "X_train_seq = tokenizer.texts_to_sequences(X_train)\n",
    "print('Sample 1 sequence: ',X_train_seq[0])\n",
    "print()\n",
    "X_train_padded = pad_sequences(X_train_seq, maxlen=len(X_train[0]))\n",
    "print('Shape of train data tensor:', X_train_padded.shape)"
   ]
  },
  {
   "cell_type": "code",
   "execution_count": 21,
   "id": "6dc76801",
   "metadata": {},
   "outputs": [
    {
     "name": "stdout",
     "output_type": "stream",
     "text": [
      "Sample 1 sequence:  [45, 12, 1, 24, 15, 11, 3, 16, 9, 27, 15, 4, 4, 2, 8, 29, 32, 31, 4, 2, 1, 20, 9, 16, 44, 34, 6, 7, 7, 30, 55, 49, 21, 5, 13, 9, 5, 7, 13, 9, 16, 44, 34, 6, 7, 7, 7, 30, 17, 28, 45, 29, 39, 34, 28, 45, 14, 4]\n",
      "\n",
      "Shape of test data tensor: (957, 231)\n"
     ]
    }
   ],
   "source": [
    "X_test_seq = tokenizer.texts_to_sequences(X_test)\n",
    "print('Sample 1 sequence: ',X_test_seq[0])\n",
    "print()\n",
    "X_test_padded = pad_sequences(X_test_seq, maxlen= len(X_train[0]))\n",
    "print('Shape of test data tensor:', X_test_padded.shape)"
   ]
  },
  {
   "cell_type": "markdown",
   "id": "877c2fe6",
   "metadata": {},
   "source": [
    "### Helper funtions"
   ]
  },
  {
   "cell_type": "code",
   "execution_count": 25,
   "id": "f33a0c8b",
   "metadata": {},
   "outputs": [],
   "source": [
    "# the funciton will draw a heat map\n",
    "def eval_NN_model(model, X_test, y_test, title= 'Heat map'):\n",
    "    predictions = model.predict(X_test)\n",
    "    preds_int = np.argmax(predictions, axis = 1)\n",
    "    y_test_int = np.argmax(y_test, axis = 1)\n",
    "    cm = confusion_matrix(y_test_int, preds_int)\n",
    "    plot_confusion_matrix(cm, figsize=(4,4), hide_ticks=True ,cmap=plt.cm.Blues)\n",
    "    plt.title(title)\n",
    "    plt.xticks(range(CLASS_NUM), [str(i) for i in range(CLASS_NUM)], fontsize=12)\n",
    "    plt.yticks(range(CLASS_NUM), [str(i) for i in range(CLASS_NUM)], fontsize=12)\n",
    "    plt.show()\n",
    "    \n",
    "    f1_test = f1_score(y_test_int, preds_int, average = 'macro')\n",
    "    print('test F1 score: {:.3f}'.format(f1_test))"
   ]
  },
  {
   "cell_type": "markdown",
   "id": "d811b5de",
   "metadata": {},
   "source": [
    "### Models"
   ]
  },
  {
   "cell_type": "code",
   "execution_count": 26,
   "id": "a570ac85",
   "metadata": {},
   "outputs": [],
   "source": [
    "from tensorflow.keras.models import Sequential\n",
    "from tensorflow.keras.layers import Dense, LSTM, Embedding, Conv1D\n",
    "from tensorflow.keras.layers import MaxPool1D, Flatten, Dropout"
   ]
  },
  {
   "cell_type": "code",
   "execution_count": 27,
   "id": "93a166a7",
   "metadata": {},
   "outputs": [],
   "source": [
    "es = tf.keras.callbacks.EarlyStopping(monitor='val_accuracy',\n",
    "                                      patience= 5, restore_best_weights= True)\n"
   ]
  },
  {
   "cell_type": "markdown",
   "id": "dcba8981",
   "metadata": {},
   "source": [
    "#### ANN"
   ]
  },
  {
   "cell_type": "code",
   "execution_count": 30,
   "id": "8beb4e38",
   "metadata": {},
   "outputs": [],
   "source": [
    "chkpt1 = tf.keras.callbacks.ModelCheckpoint(\n",
    "    'ANN_weights', monitor='val_accuracy', verbose=0, save_best_only=True,\n",
    "    save_weights_only=True\n",
    ")"
   ]
  },
  {
   "cell_type": "code",
   "execution_count": 31,
   "id": "5ea1e4c8",
   "metadata": {},
   "outputs": [
    {
     "name": "stdout",
     "output_type": "stream",
     "text": [
      "Model: \"sequential\"\n",
      "_________________________________________________________________\n",
      "Layer (type)                 Output Shape              Param #   \n",
      "=================================================================\n",
      "embedding (Embedding)        (None, 231, 50)           4450      \n",
      "_________________________________________________________________\n",
      "flatten (Flatten)            (None, 11550)             0         \n",
      "_________________________________________________________________\n",
      "dense (Dense)                (None, 12)                138612    \n",
      "_________________________________________________________________\n",
      "dense_1 (Dense)              (None, 8)                 104       \n",
      "_________________________________________________________________\n",
      "dense_2 (Dense)              (None, 3)                 27        \n",
      "=================================================================\n",
      "Total params: 143,193\n",
      "Trainable params: 143,193\n",
      "Non-trainable params: 0\n",
      "_________________________________________________________________\n"
     ]
    }
   ],
   "source": [
    "model_ANN = Sequential()\n",
    "model_ANN.add(Embedding(VOCAB_SIZE+1, EMB_DIM, input_length = X_train_padded.shape[1]))\n",
    "model_ANN.add(Flatten())\n",
    "model_ANN.add(Dense(12, activation='relu'))\n",
    "model_ANN.add(Dense(8, activation='relu'))\n",
    "model_ANN.add(Dense(3, activation='softmax'))\n",
    "\n",
    "model_ANN.compile(loss='categorical_crossentropy', optimizer='adam', metrics=['accuracy'])\n",
    "model_ANN.summary()"
   ]
  },
  {
   "cell_type": "code",
   "execution_count": 32,
   "id": "a95dd3a7",
   "metadata": {
    "scrolled": true
   },
   "outputs": [
    {
     "name": "stderr",
     "output_type": "stream",
     "text": [
      "C:\\Users\\moein\\AppData\\Roaming\\Python\\Python37\\site-packages\\tensorflow\\python\\data\\ops\\dataset_ops.py:3704: UserWarning: Even though the `tf.config.experimental_run_functions_eagerly` option is set, this option does not apply to tf.data functions. To force eager execution of tf.data functions, please use `tf.data.experimental.enable.debug_mode()`.\n",
      "  \"Even though the `tf.config.experimental_run_functions_eagerly` \"\n"
     ]
    },
    {
     "name": "stdout",
     "output_type": "stream",
     "text": [
      "Epoch 1/100\n",
      "70/70 [==============================] - 3s 23ms/step - loss: 1.0062 - accuracy: 0.5168 - val_loss: 0.9422 - val_accuracy: 0.5193\n",
      "Epoch 2/100\n",
      "70/70 [==============================] - 2s 22ms/step - loss: 0.7175 - accuracy: 0.6610 - val_loss: 0.5777 - val_accuracy: 0.7868\n",
      "Epoch 3/100\n",
      "70/70 [==============================] - 2s 22ms/step - loss: 0.4298 - accuracy: 0.9145 - val_loss: 0.3489 - val_accuracy: 0.9206\n",
      "Epoch 4/100\n",
      "70/70 [==============================] - 2s 22ms/step - loss: 0.2826 - accuracy: 0.9570 - val_loss: 0.2405 - val_accuracy: 0.9676\n",
      "Epoch 5/100\n",
      "70/70 [==============================] - 2s 23ms/step - loss: 0.1112 - accuracy: 0.9767 - val_loss: 0.1893 - val_accuracy: 0.9321\n",
      "Epoch 6/100\n",
      "70/70 [==============================] - 2s 23ms/step - loss: 0.0613 - accuracy: 0.9839 - val_loss: 0.1116 - val_accuracy: 0.9687\n",
      "Epoch 7/100\n",
      "70/70 [==============================] - 2s 23ms/step - loss: 0.0360 - accuracy: 0.9933 - val_loss: 0.1175 - val_accuracy: 0.9645\n",
      "Epoch 8/100\n",
      "70/70 [==============================] - 2s 23ms/step - loss: 0.0244 - accuracy: 0.9955 - val_loss: 0.1168 - val_accuracy: 0.9666\n",
      "Epoch 9/100\n",
      "70/70 [==============================] - 2s 23ms/step - loss: 0.0161 - accuracy: 0.9978 - val_loss: 0.1125 - val_accuracy: 0.9676\n",
      "Epoch 10/100\n",
      "70/70 [==============================] - 1s 21ms/step - loss: 0.0101 - accuracy: 0.9982 - val_loss: 0.1188 - val_accuracy: 0.9728\n",
      "Epoch 11/100\n",
      "70/70 [==============================] - 2s 23ms/step - loss: 0.0077 - accuracy: 0.9991 - val_loss: 0.1189 - val_accuracy: 0.9655\n",
      "Epoch 12/100\n",
      "70/70 [==============================] - 2s 24ms/step - loss: 0.0086 - accuracy: 0.9987 - val_loss: 0.1537 - val_accuracy: 0.9582\n",
      "Epoch 13/100\n",
      "70/70 [==============================] - 2s 22ms/step - loss: 0.0070 - accuracy: 0.9991 - val_loss: 0.1327 - val_accuracy: 0.9666\n",
      "Epoch 14/100\n",
      "70/70 [==============================] - 2s 22ms/step - loss: 0.0062 - accuracy: 0.9991 - val_loss: 0.1610 - val_accuracy: 0.9572\n",
      "Epoch 15/100\n",
      "70/70 [==============================] - 2s 22ms/step - loss: 0.0057 - accuracy: 0.9991 - val_loss: 0.1273 - val_accuracy: 0.9666\n",
      "Took 25.863 seconds to train\n"
     ]
    }
   ],
   "source": [
    "import time\n",
    "import numpy as np\n",
    "\n",
    "eps = 100\n",
    "start = time.time()\n",
    "history1 = model_ANN.fit(X_train_padded, y_train, validation_data = (X_test_padded, y_test),\n",
    "          epochs = eps, batch_size = 32, shuffle = True, callbacks = [es, chkpt1])\n",
    "\n",
    "end = time.time()\n",
    "print('Took {:.3f} seconds to train'.format(end-start))"
   ]
  },
  {
   "cell_type": "code",
   "execution_count": 33,
   "id": "cad8cb26",
   "metadata": {},
   "outputs": [
    {
     "data": {
      "text/plain": [
       "<tensorflow.python.training.tracking.util.CheckpointLoadStatus at 0x1816fc51f08>"
      ]
     },
     "execution_count": 33,
     "metadata": {},
     "output_type": "execute_result"
    }
   ],
   "source": [
    "model_ANN.load_weights('weights/ANN_weights')"
   ]
  },
  {
   "cell_type": "code",
   "execution_count": 34,
   "id": "c2fa91dd",
   "metadata": {},
   "outputs": [
    {
     "name": "stderr",
     "output_type": "stream",
     "text": [
      "C:\\Users\\moein\\AppData\\Roaming\\Python\\Python37\\site-packages\\tensorflow\\python\\data\\ops\\dataset_ops.py:3704: UserWarning: Even though the `tf.config.experimental_run_functions_eagerly` option is set, this option does not apply to tf.data functions. To force eager execution of tf.data functions, please use `tf.data.experimental.enable.debug_mode()`.\n",
      "  \"Even though the `tf.config.experimental_run_functions_eagerly` \"\n"
     ]
    },
    {
     "data": {
      "image/png": "[encoded data removed]",
      "text/plain": [
       "<Figure size 288x288 with 1 Axes>"
      ]
     },
     "metadata": {
      "needs_background": "light"
     },
     "output_type": "display_data"
    },
    {
     "name": "stdout",
     "output_type": "stream",
     "text": [
      "test F1 score: 0.970\n"
     ]
    }
   ],
   "source": [
    "eval_NN_model(model_ANN, X_test_padded, y_test)"
   ]
  },
  {
   "cell_type": "markdown",
   "id": "0ea97a86",
   "metadata": {},
   "source": [
    "#### RNN"
   ]
  },
  {
   "cell_type": "code",
   "execution_count": 41,
   "id": "3c67e965",
   "metadata": {},
   "outputs": [],
   "source": [
    "chkpt2 = tf.keras.callbacks.ModelCheckpoint(\n",
    "    'weights/RNN_weights', monitor='val_accuracy', verbose=0, save_best_only=True,\n",
    "    save_weights_only=True\n",
    ")"
   ]
  },
  {
   "cell_type": "code",
   "execution_count": 57,
   "id": "72d9cf8b",
   "metadata": {},
   "outputs": [
    {
     "name": "stdout",
     "output_type": "stream",
     "text": [
      "Model: \"sequential_6\"\n",
      "_________________________________________________________________\n",
      "Layer (type)                 Output Shape              Param #   \n",
      "=================================================================\n",
      "embedding_6 (Embedding)      (None, 231, 50)           4450      \n",
      "_________________________________________________________________\n",
      "lstm_4 (LSTM)                (None, 231, 50)           20200     \n",
      "_________________________________________________________________\n",
      "lstm_5 (LSTM)                (None, 50)                20200     \n",
      "_________________________________________________________________\n",
      "dense_7 (Dense)              (None, 3)                 153       \n",
      "=================================================================\n",
      "Total params: 45,003\n",
      "Trainable params: 45,003\n",
      "Non-trainable params: 0\n",
      "_________________________________________________________________\n"
     ]
    }
   ],
   "source": [
    "LSTM_UNITS = 50\n",
    "\n",
    "model_RNN = Sequential()\n",
    "model_RNN.add(Embedding(VOCAB_SIZE+1, EMB_DIM, input_length = X_train_padded.shape[1]))\n",
    "model_RNN.add(LSTM(units = LSTM_UNITS, return_sequences = True))\n",
    "model_RNN.add(LSTM(units = LSTM_UNITS))\n",
    "model_RNN.add(Dense(CLASS_NUM, activation = 'softmax'))\n",
    "\n",
    "model_RNN.compile(loss = 'categorical_crossentropy', \n",
    "                  optimizer = 'adam', metrics = ['accuracy'])\n",
    "model_RNN.summary()"
   ]
  },
  {
   "cell_type": "code",
   "execution_count": 58,
   "id": "e996e125",
   "metadata": {
    "scrolled": true
   },
   "outputs": [
    {
     "name": "stderr",
     "output_type": "stream",
     "text": [
      "C:\\Users\\moein\\AppData\\Roaming\\Python\\Python37\\site-packages\\tensorflow\\python\\data\\ops\\dataset_ops.py:3704: UserWarning: Even though the `tf.config.experimental_run_functions_eagerly` option is set, this option does not apply to tf.data functions. To force eager execution of tf.data functions, please use `tf.data.experimental.enable.debug_mode()`.\n",
      "  \"Even though the `tf.config.experimental_run_functions_eagerly` \"\n"
     ]
    },
    {
     "name": "stdout",
     "output_type": "stream",
     "text": [
      "Epoch 1/100\n",
      "70/70 [==============================] - 3s 46ms/step - loss: 1.0040 - accuracy: 0.5293 - val_loss: 0.9389 - val_accuracy: 0.5528\n",
      "Epoch 2/100\n",
      "70/70 [==============================] - 3s 43ms/step - loss: 0.7797 - accuracy: 0.6386 - val_loss: 0.6453 - val_accuracy: 0.6938\n",
      "Epoch 3/100\n",
      "70/70 [==============================] - 3s 42ms/step - loss: 0.5922 - accuracy: 0.7335 - val_loss: 0.4875 - val_accuracy: 0.7983\n",
      "Epoch 4/100\n",
      "70/70 [==============================] - 3s 42ms/step - loss: 0.4613 - accuracy: 0.8168 - val_loss: 0.4660 - val_accuracy: 0.7962\n",
      "Epoch 5/100\n",
      "70/70 [==============================] - 3s 43ms/step - loss: 0.3891 - accuracy: 0.8540 - val_loss: 0.4406 - val_accuracy: 0.8422\n",
      "Epoch 6/100\n",
      "70/70 [==============================] - 3s 42ms/step - loss: 0.3759 - accuracy: 0.8607 - val_loss: 0.3694 - val_accuracy: 0.8610\n",
      "Epoch 7/100\n",
      "70/70 [==============================] - 3s 43ms/step - loss: 0.3050 - accuracy: 0.8867 - val_loss: 0.3386 - val_accuracy: 0.8736\n",
      "Epoch 8/100\n",
      "70/70 [==============================] - 3s 49ms/step - loss: 0.3001 - accuracy: 0.8925 - val_loss: 0.4542 - val_accuracy: 0.8203\n",
      "Epoch 9/100\n",
      "70/70 [==============================] - 3s 46ms/step - loss: 0.2704 - accuracy: 0.9001 - val_loss: 0.3110 - val_accuracy: 0.8736\n",
      "Epoch 10/100\n",
      "70/70 [==============================] - 3s 43ms/step - loss: 0.2564 - accuracy: 0.9095 - val_loss: 0.3030 - val_accuracy: 0.8892\n",
      "Epoch 11/100\n",
      "70/70 [==============================] - 3s 42ms/step - loss: 0.2216 - accuracy: 0.9261 - val_loss: 0.3467 - val_accuracy: 0.8819\n",
      "Epoch 12/100\n",
      "70/70 [==============================] - 3s 42ms/step - loss: 0.1933 - accuracy: 0.9378 - val_loss: 0.2832 - val_accuracy: 0.9049\n",
      "Epoch 13/100\n",
      "70/70 [==============================] - 3s 42ms/step - loss: 0.1764 - accuracy: 0.9418 - val_loss: 0.2706 - val_accuracy: 0.9060\n",
      "Epoch 14/100\n",
      "70/70 [==============================] - 3s 42ms/step - loss: 0.1725 - accuracy: 0.9431 - val_loss: 0.2697 - val_accuracy: 0.9133\n",
      "Epoch 15/100\n",
      "70/70 [==============================] - 3s 43ms/step - loss: 0.1673 - accuracy: 0.9463 - val_loss: 0.2880 - val_accuracy: 0.8997\n",
      "Epoch 16/100\n",
      "70/70 [==============================] - 3s 42ms/step - loss: 0.1525 - accuracy: 0.9521 - val_loss: 0.2790 - val_accuracy: 0.9122\n",
      "Epoch 17/100\n",
      "70/70 [==============================] - 3s 43ms/step - loss: 0.1423 - accuracy: 0.9566 - val_loss: 0.2542 - val_accuracy: 0.9185\n",
      "Epoch 18/100\n",
      "70/70 [==============================] - 3s 44ms/step - loss: 0.1436 - accuracy: 0.9534 - val_loss: 0.2466 - val_accuracy: 0.9248\n",
      "Epoch 19/100\n",
      "70/70 [==============================] - 3s 44ms/step - loss: 0.1423 - accuracy: 0.9534 - val_loss: 0.2380 - val_accuracy: 0.9143\n",
      "Epoch 20/100\n",
      "70/70 [==============================] - 3s 42ms/step - loss: 0.1182 - accuracy: 0.9624 - val_loss: 0.2431 - val_accuracy: 0.9206\n",
      "Epoch 21/100\n",
      "70/70 [==============================] - 3s 42ms/step - loss: 0.1270 - accuracy: 0.9597 - val_loss: 0.2364 - val_accuracy: 0.9237\n",
      "Epoch 22/100\n",
      "70/70 [==============================] - 3s 42ms/step - loss: 0.1143 - accuracy: 0.9628 - val_loss: 0.2495 - val_accuracy: 0.9195\n",
      "Epoch 23/100\n",
      "70/70 [==============================] - 3s 42ms/step - loss: 0.1095 - accuracy: 0.9637 - val_loss: 0.3363 - val_accuracy: 0.9091\n",
      "Took 69.627 seconds to train\n"
     ]
    }
   ],
   "source": [
    "start = time.time()\n",
    "history2 = model_RNN.fit(X_train_padded, y_train, validation_data = (X_test_padded, y_test),\n",
    "          epochs = eps, batch_size = 32, shuffle = True, callbacks = [es, chkpt2])\n",
    "end = time.time()\n",
    "print('Took {:.3f} seconds to train'.format(end-start))"
   ]
  },
  {
   "cell_type": "code",
   "execution_count": 59,
   "id": "6636f181",
   "metadata": {},
   "outputs": [
    {
     "data": {
      "text/plain": [
       "<tensorflow.python.training.tracking.util.CheckpointLoadStatus at 0x181c00cbf88>"
      ]
     },
     "execution_count": 59,
     "metadata": {},
     "output_type": "execute_result"
    }
   ],
   "source": [
    "model_RNN.load_weights('weights/RNN_weights')"
   ]
  },
  {
   "cell_type": "code",
   "execution_count": 60,
   "id": "8c638f95",
   "metadata": {},
   "outputs": [
    {
     "data": {
      "image/png": "[encoded data removed]",
      "text/plain": [
       "<Figure size 288x288 with 1 Axes>"
      ]
     },
     "metadata": {
      "needs_background": "light"
     },
     "output_type": "display_data"
    },
    {
     "name": "stdout",
     "output_type": "stream",
     "text": [
      "test F1 score: 0.921\n"
     ]
    }
   ],
   "source": [
    "eval_NN_model(model_RNN, X_test_padded, y_test)"
   ]
  },
  {
   "cell_type": "markdown",
   "id": "5abe9b5a",
   "metadata": {},
   "source": [
    "#### CNN"
   ]
  },
  {
   "cell_type": "code",
   "execution_count": 49,
   "id": "c8d2d0b7",
   "metadata": {},
   "outputs": [],
   "source": [
    "chkpt3 = tf.keras.callbacks.ModelCheckpoint(\n",
    "    'weights/CNN_weights', monitor='val_accuracy', verbose=0, save_best_only=True,\n",
    "    save_weights_only=True\n",
    ")"
   ]
  },
  {
   "cell_type": "code",
   "execution_count": 52,
   "id": "25475425",
   "metadata": {},
   "outputs": [
    {
     "name": "stdout",
     "output_type": "stream",
     "text": [
      "Model: \"sequential_4\"\n",
      "_________________________________________________________________\n",
      "Layer (type)                 Output Shape              Param #   \n",
      "=================================================================\n",
      "embedding_4 (Embedding)      (None, 231, 50)           4450      \n",
      "_________________________________________________________________\n",
      "conv1d_1 (Conv1D)            (None, 229, 100)          15100     \n",
      "_________________________________________________________________\n",
      "max_pooling1d_1 (MaxPooling1 (None, 114, 100)          0         \n",
      "_________________________________________________________________\n",
      "flatten_2 (Flatten)          (None, 11400)             0         \n",
      "_________________________________________________________________\n",
      "dropout_1 (Dropout)          (None, 11400)             0         \n",
      "_________________________________________________________________\n",
      "dense_6 (Dense)              (None, 3)                 34203     \n",
      "=================================================================\n",
      "Total params: 53,753\n",
      "Trainable params: 53,753\n",
      "Non-trainable params: 0\n",
      "_________________________________________________________________\n"
     ]
    }
   ],
   "source": [
    "model_CNN = Sequential()\n",
    "model_CNN.add(Embedding(VOCAB_SIZE+1, EMB_DIM, input_length = X_train_padded.shape[1]))\n",
    "model_CNN.add(Conv1D(filters = 100, kernel_size = 3, activation='relu'))\n",
    "model_CNN.add(MaxPool1D(pool_size = 2, strides=2))\n",
    "model_CNN.add(Flatten())\n",
    "model_CNN.add(Dropout(0.5))\n",
    "model_CNN.add(Dense(CLASS_NUM, activation= 'softmax'))\n",
    "\n",
    "model_CNN.compile(loss = 'categorical_crossentropy', \n",
    "                  optimizer = 'adam', metrics = ['accuracy'])\n",
    "model_CNN.summary()"
   ]
  },
  {
   "cell_type": "code",
   "execution_count": 53,
   "id": "4929c5f5",
   "metadata": {
    "scrolled": true
   },
   "outputs": [
    {
     "name": "stdout",
     "output_type": "stream",
     "text": [
      "Epoch 1/100\n",
      "70/70 [==============================] - 2s 28ms/step - loss: 0.9017 - accuracy: 0.5858 - val_loss: 0.5266 - val_accuracy: 0.9070\n",
      "Epoch 2/100\n",
      "70/70 [==============================] - 2s 26ms/step - loss: 0.2463 - accuracy: 0.9346 - val_loss: 0.1392 - val_accuracy: 0.9592\n",
      "Epoch 3/100\n",
      "70/70 [==============================] - 2s 26ms/step - loss: 0.1249 - accuracy: 0.9655 - val_loss: 0.1250 - val_accuracy: 0.9530\n",
      "Epoch 4/100\n",
      "70/70 [==============================] - 2s 26ms/step - loss: 0.1048 - accuracy: 0.9700 - val_loss: 0.1299 - val_accuracy: 0.9613\n",
      "Epoch 5/100\n",
      "70/70 [==============================] - 2s 25ms/step - loss: 0.0860 - accuracy: 0.9740 - val_loss: 0.1124 - val_accuracy: 0.9634\n",
      "Epoch 6/100\n",
      "70/70 [==============================] - 2s 26ms/step - loss: 0.0756 - accuracy: 0.9758 - val_loss: 0.1114 - val_accuracy: 0.9624\n",
      "Epoch 7/100\n",
      "70/70 [==============================] - 2s 25ms/step - loss: 0.0651 - accuracy: 0.9803 - val_loss: 0.1117 - val_accuracy: 0.9707\n",
      "Epoch 8/100\n",
      "70/70 [==============================] - 2s 25ms/step - loss: 0.0530 - accuracy: 0.9839 - val_loss: 0.1129 - val_accuracy: 0.9666\n",
      "Epoch 9/100\n",
      "70/70 [==============================] - 2s 25ms/step - loss: 0.0478 - accuracy: 0.9830 - val_loss: 0.1237 - val_accuracy: 0.9624\n",
      "Epoch 10/100\n",
      "70/70 [==============================] - 2s 25ms/step - loss: 0.0363 - accuracy: 0.9884 - val_loss: 0.1248 - val_accuracy: 0.9592\n",
      "Epoch 11/100\n",
      "70/70 [==============================] - 2s 25ms/step - loss: 0.0423 - accuracy: 0.9897 - val_loss: 0.1191 - val_accuracy: 0.9655\n",
      "Epoch 12/100\n",
      "70/70 [==============================] - 2s 25ms/step - loss: 0.0290 - accuracy: 0.9915 - val_loss: 0.1271 - val_accuracy: 0.9582\n",
      "Took 21.686 seconds to train\n"
     ]
    }
   ],
   "source": [
    "start = time.time()\n",
    "history3 = model_CNN.fit(X_train_padded, y_train, validation_data = (X_test_padded, y_test),\n",
    "          epochs = eps, batch_size = 32, shuffle = True, callbacks = [es, chkpt3])\n",
    "end = time.time()\n",
    "print('Took {:.3f} seconds to train'.format(end-start, eps))"
   ]
  },
  {
   "cell_type": "code",
   "execution_count": 54,
   "id": "478ba2d0",
   "metadata": {},
   "outputs": [
    {
     "data": {
      "text/plain": [
       "<tensorflow.python.training.tracking.util.CheckpointLoadStatus at 0x1818dddef88>"
      ]
     },
     "execution_count": 54,
     "metadata": {},
     "output_type": "execute_result"
    }
   ],
   "source": [
    "model_CNN.load_weights('weights/CNN_weights')"
   ]
  },
  {
   "cell_type": "code",
   "execution_count": 55,
   "id": "e33ce7b1",
   "metadata": {},
   "outputs": [
    {
     "data": {
      "image/png": "[encoded data removed]",
      "text/plain": [
       "<Figure size 288x288 with 1 Axes>"
      ]
     },
     "metadata": {
      "needs_background": "light"
     },
     "output_type": "display_data"
    },
    {
     "name": "stdout",
     "output_type": "stream",
     "text": [
      "test F1 score: 0.967\n"
     ]
    }
   ],
   "source": [
    "eval_NN_model(model_CNN, X_test_padded, y_test)"
   ]
  },
  {
   "cell_type": "code",
   "execution_count": null,
   "id": "89f54f1e",
   "metadata": {},
   "outputs": [],
   "source": []
  }
 ],
 "metadata": {
  "kernelspec": {
   "display_name": "Python 3 (ipykernel)",
   "language": "python",
   "name": "python3"
  },
  "language_info": {
   "codemirror_mode": {
    "name": "ipython",
    "version": 3
   },
   "file_extension": ".py",
   "mimetype": "text/x-python",
   "name": "python",
   "nbconvert_exporter": "python",
   "pygments_lexer": "ipython3",
   "version": "3.7.9"
  }
 },
 "nbformat": 4,
 "nbformat_minor": 5
}
